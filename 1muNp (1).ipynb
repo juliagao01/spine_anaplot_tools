{
 "cells": [
  {
   "cell_type": "code",
   "execution_count": 12,
   "id": "ee6bf3c4-b6bb-43a7-8812-05d5dd5be9d8",
   "metadata": {},
   "outputs": [],
   "source": [
    "import uproot \n",
    "import matplotlib.pyplot as plt\n",
    "import seaborn\n",
    "import numpy as np\n",
    "import math\n",
    "from scipy.fft import fft, fftfreq\n",
    "import plotly.subplots as px\n",
    "import plotly.io as pio\n",
    "import plotly.graph_objects as go\n",
    "import numpy as np\n",
    "import pandas as pd\n",
    "from datetime import datetime, timedelta\n",
    "\n",
    "import os\n",
    "from plotly.subplots import make_subplots\n",
    "from plotly import tools\n",
    "import plotly.offline as pyo\n",
    "import sys\n",
    "from tqdm import tqdm"
   ]
  },
  {
   "cell_type": "code",
   "execution_count": 13,
   "id": "be2d7459-5668-443f-ae94-dd0a018ab0d0",
   "metadata": {},
   "outputs": [
    {
     "name": "stdout",
     "output_type": "stream",
     "text": [
      "S\n",
      "S\n",
      "S\n",
      "S\n",
      "S\n",
      "S\n",
      "S\n",
      "S\n",
      "S\n",
      "S\n"
     ]
    }
   ],
   "source": [
    "#    lines_nu = [line_nu.rstrip() for line_nu in file]\n",
    "with open('/Users/juliagao/Desktop/1muNp.log') as file:\n",
    "    lines_nu = [line_nu.rstrip() for line_nu in file]\n",
    "#with open('/Users/danielcarber/Documents/ICARUS/NuMI_Numu/1e1p/output_data.log') as file:\n",
    "#    lines_data = [line_data.rstrip() for line_data in file]\n",
    "with open('/Users/juliagao/Desktop/1muNp.log') as file:\n",
    "    lines_data = [line_data.rstrip() for line_data in file]\n",
    "for i in range(10):\n",
    "    print(lines_nu[i][0])"
   ]
  },
  {
   "cell_type": "code",
   "execution_count": 22,
   "id": "ee6695b6-0930-4613-b260-d3aa124fed07",
   "metadata": {},
   "outputs": [
    {
     "name": "stdout",
     "output_type": "stream",
     "text": [
      "SIGNAL,1,20,0,detsim_2d_icarus_fitFR_refactored_detsim_stage0_stage1_81727570_0.root,0,1.000000,0.000000,4.000000,4.000000,1.000000,2967.973937,3104.289551,37.530912,-1.000000,1,1,4,1,1984.649756,3665.038619,978.272827,902.393982,227.948593,3.612291,0.335830,0.294900,0.111861,0.049957,0.686529,2.061585,1597.116540,1107.160174,-nan,-nan,2.864149,3.034842,0.999865,0.000000,0,0,1,\n",
      "SIGNAL,1,20,0,detsim_2d_icarus_fitFR_refactored_detsim_stage0_stage1_81727570_0.root,0,1.000000,0.000000,4.000000,4.000000,1.000000,2967.973937,3104.289551,37.530912,-1.000000,1,1,4,1,1984.649756,3665.038619,978.272827,902.393982,227.948593,3.612291,0.335830,0.294900,0.111861,0.049957,0.686529,2.061585,1597.116540,1107.160174,-nan,-nan,2.864149,3.034842,0.999865,0.000000,0,0,1,\n"
     ]
    }
   ],
   "source": [
    "df_signal_nu = {'Type': [], 'Run': [], 'Evt': [], 'Subrun':[],'File':[],'Nu_id':[],'Image_id':[],'Interaction_id':[], 'Category':[],\n",
    "     'Category_topology':[],'category_interaction_mode':[],'leading_electron_ke_true':[], 'leading_electron_ke_reco':[],\n",
    "     'leading_proton_ke_true':[],'leading_proton_ke_reco':[],'leading_electron_pid_true':[], 'leading_electron_pid_reco':[],\n",
    "     'leading_proton_pid_true':[],'leading_proton_pid_reco':[],'visible_energy_true':[],'visible_energy_reco':[],'leading_electron_pt_true':[],\n",
    "     'leading_electron_pt_reco':[],'leading_proton_pt_true':[],'leading_proton_pt_reco':[],'electron_angle_polar_angle_true':[],\n",
    "     'leading_electron_polar_angle_reco':[],'electron_azimuthal_angle_true':[],'electron_azimuthal_angle_reco':[],\n",
    "     'opening_angle_true':[],'opening_angle_reco':[],'interaction_pt_true':[],'interaction_pt_reco':[],\n",
    "     'phiT_true':[],'phiT_reco':[],'alphaT_true':[],'alphaT_reco':[],'electron_softmax':[],'proton_softmax':[],\n",
    "     'all_1mu1p_cut':[],'all_1muNp_cut':[],'all_1muX_cut':[],'End':[]}\n",
    "\n",
    "#Selected is reco interactions matched with true interactions\n",
    "df_selected_nu =  {'Type': [], 'Run': [], 'Evt': [], 'Subrun':[],'File':[],'Nu_id':[],'Image_id':[],'Interaction_id':[], 'Category':[],\n",
    "     'Category_topology':[],'category_interaction_mode':[],'leading_electron_ke_true':[], 'leading_electron_ke_reco':[],\n",
    "     'leading_proton_ke_true':[],'leading_proton_ke_reco':[],'leading_electron_pid_true':[], 'leading_electron_pid_reco':[],\n",
    "     'leading_proton_pid_true':[],'leading_proton_pid_reco':[],'visible_energy_true':[],'visible_energy_reco':[],'leading_electron_pt_true':[],\n",
    "     'leading_electron_pt_reco':[],'leading_proton_pt_true':[],'leading_proton_pt_reco':[],'electron_angle_polar_angle_true':[],\n",
    "     'leading_electron_polar_angle_reco':[],'electron_azimuthal_angle_true':[],'electron_azimuthal_angle_reco':[],\n",
    "     'opening_angle_true':[],'opening_angle_reco':[],'interaction_pt_true':[],'interaction_pt_reco':[],\n",
    "     'phiT_true':[],'phiT_reco':[],'alphaT_true':[],'alphaT_reco':[],'electron_softmax':[],'proton_softmax':[],\n",
    "     'all_1mu1p_cut':[],'all_1muNp_cut':[],'all_1muX_cut':[],'End':[]}\n",
    "\n",
    "list_df_MC = ['Type', 'Run', 'Evt', 'Subrun','File','Nu_id','Image_id','Interaction_id', 'Category',\n",
    "     'Category_topology','category_interaction_mode','leading_electron_ke_true', 'leading_electron_ke_reco',\n",
    "     'leading_proton_ke_true','leading_proton_ke_reco','leading_electron_pid_true', 'leading_electron_pid_reco',\n",
    "     'leading_proton_pid_true','leading_proton_pid_reco','visible_energy_true','visible_energy_reco','leading_electron_pt_true',\n",
    "     'leading_electron_pt_reco','leading_proton_pt_true','leading_proton_pt_reco','electron_angle_polar_angle_true',\n",
    "     'leading_electron_polar_angle_reco','electron_azimuthal_angle_true','electron_azimuthal_angle_reco',\n",
    "     'opening_angle_true','opening_angle_reco','interaction_pt_true','interaction_pt_reco',\n",
    "     'phiT_true','phiT_reco','alphaT_true','alphaT_reco','electron_softmax','proton_softmax','all_1mu1p_cut','all_1muNp_cut','all_1muX_cut',\"End\"]\n",
    "\n",
    "\n",
    "#Fills the dictionaries with data            \n",
    "for line_nu in lines_nu:\n",
    "    line_nu = line_nu.split(\",\")\n",
    "    #print(line_nu[0])\n",
    "    if line_nu[0] == 'SIGNAL':\n",
    "        for i in range(len(line_nu)):\n",
    "            df_signal_nu[list_df_MC[i]].append(line_nu[i])\n",
    "    elif line_nu[0] == 'SELECTED':\n",
    "        for i in range(len(line_nu)):\n",
    "            df_selected_nu[list_df_MC[i]].append(line_nu[i])\n",
    "print(lines_nu[0])\n",
    "            \n",
    "df_data= {'Type': [], 'Run': [], 'Evt': [], 'Subrun':[],'Image_id':[],'Interaction_id':[], 'leading_electron_ke_reco':[],\n",
    "     'leading_proton_ke_reco':[],'visible_energy_reco':[],\n",
    "     'leading_electron_pt_reco':[],'leading_proton_pt_reco':[],\n",
    "     'leading_electron_polar_angle_reco':[],'electron_azimuthal_angle_reco':[],\n",
    "     'opening_angle_reco':[],'interaction_pt_reco':[],\n",
    "     'phiT_reco':[],'alphaT_reco':[],'electron_softmax':[],'proton_softmax':[],'all_1mu1p_cut':[],'all_1muNp_cut':[],'all_1muX_cut':[],'End':[]}\n",
    "list_df = ['Type', 'Run', 'Evt', 'Subrun','Image_id','Interaction_id', 'leading_electron_ke_reco',\n",
    "     'leading_proton_ke_reco','visible_energy_reco',\n",
    "     'leading_electron_pt_reco','leading_proton_pt_reco',\n",
    "     'leading_electron_polar_angle_reco','electron_azimuthal_angle_reco',\n",
    "     'opening_angle_reco','interaction_pt_reco',\n",
    "     'phiT_reco','alphaT_reco','electron_softmax','proton_softmax','all_1mu1p_cut','all_1muNp_cut','all_1muX_cut',\"End\"]\n",
    "print(lines_data[0])\n",
    "for line_data in lines_data:\n",
    "    line_data = line_data.split(\",\")\n",
    "    if line_data[0] == 'DATA':\n",
    "        for i in range(len(line_data)):\n",
    "            df_data[list_df[i]].append(line_data[i])      "
   ]
  },
  {
   "cell_type": "code",
   "execution_count": 28,
   "id": "c95f23d2-542c-43c9-b13b-88704934cffc",
   "metadata": {},
   "outputs": [],
   "source": [
    "def MC_selection(df_selected_nu,variable):\n",
    "    signal,sel_1mu, sel_1mu1pi1p, sel_numu_other, sel_NC, sel_cosmic,sel_numu,sel_other = [],[],[],[],[],[],[],[]\n",
    "    total_events =0\n",
    "    for index, category in enumerate(df_selected_nu['Category_topology']):\n",
    "        \n",
    "        if df_selected_nu['all_1muNp_cut'][index] == '1' or df_selected_nu['all_1muNp_cut'][index] == '1':\n",
    "            \n",
    "            total_events +=1\n",
    "            if (category[0] == '0' or category[0] == '2'):\n",
    "                #print(df_selected_nu['File'][index])\n",
    "                signal.append(float(df_selected_nu[variable][index]))\n",
    "            elif (category[0] == '4' or category[0] == '3' or category[0] == '1'):\n",
    "                sel_numu_other.append(float(df_selected_nu[variable][index]))\n",
    "            elif category[0] == '5':\n",
    "                sel_NC.append(float(df_selected_nu[variable][index]))\n",
    "            elif category[0] == '6':\n",
    "                sel_cosmic.append(float(df_selected_nu[variable][index]))\n",
    "            elif category[0] == '7':\n",
    "                sel_numu.append(float(df_selected_nu[variable][index]))\n",
    "            else:\n",
    "                #print()\n",
    "                sel_other.append(float(df_selected_nu[variable][index]))\n",
    "    print(len(signal), len(sel_1mu), len(sel_1mu1pi1p), len(sel_numu_other), len(sel_NC), len(sel_cosmic), len(sel_numu), len(sel_other))\n",
    "    return signal,sel_1mu, sel_1mu1pi1p, sel_numu_other, sel_NC, sel_cosmic,sel_numu,sel_other, total_events"
   ]
  },
  {
   "cell_type": "code",
   "execution_count": 29,
   "id": "b65cec3d-da6b-42c7-bd3a-a0bad227662b",
   "metadata": {},
   "outputs": [],
   "source": [
    "def data_selection(df_data,variable):\n",
    "    data_1muNp = []\n",
    "    for index,i in enumerate(df_data['all_1muNp_cut']):\n",
    "        if int(i[0]) == 1:\n",
    "            #if int(i[0]) == 0:\n",
    "            data_1muNp.append(float(df_data[variable][index]))\n",
    "    for index,i in enumerate(df_data['all_1muNp_cut']):\n",
    "        if int(i[0]) == 1:\n",
    "            #if int(i[0]) == 0:\n",
    "            data_1muNp.append(float(df_data[variable][index]))\n",
    "    return data_1muNp"
   ]
  },
  {
   "cell_type": "code",
   "execution_count": 30,
   "id": "830a3095-fc13-44a3-8ab9-c1ff4c776e2c",
   "metadata": {},
   "outputs": [],
   "source": [
    "def hist_1d(metric, bounds,bins, xaxis_name, Plot_title, selection):\n",
    "    fig = make_subplots(rows=1,cols=1,subplot_titles = (f\"<span style='font-size: 42px;'>{Plot_title}\",))\n",
    "    \n",
    "    signal,sel_1mu, sel_1mu1pi1p, sel_numu_other, sel_NC, sel_cosmic,sel_numu,sel_other,total_events = MC_selection(df_selected_nu,metric)\n",
    "    \n",
    "    print('Purity: ', len(signal)/total_events)\n",
    "    print('Number of signal: ',len(signal),' Number of selected:', total_events)\n",
    "    cosmic_size = len(sel_cosmic)\n",
    "    numu_size = len(sel_numu)\n",
    "    NC_size = len(sel_NC)\n",
    "    signal_size = len(signal)\n",
    "    numu_size = len(sel_numu_other)\n",
    "    other_size = len(sel_other)\n",
    "    \n",
    "    \n",
    "    fig.add_trace(go.Histogram(x=sel_cosmic,marker_color = 'yellow',xbins=dict(start = bins[0],end = bins[1],size=bins[2]),\n",
    "                               name = f'Cosmics ({cosmic_size}, {100*cosmic_size/total_events:.2f}%)'),row = 1, col =1)\n",
    "    fig.add_trace(go.Histogram(x=sel_numu,marker_color = 'blue',xbins=dict(start = bins[0],end = bins[1],size=bins[2]),\n",
    "                              name = f'\\u03BD<sub>\\u03BC</sub> ({numu_size}, {100*numu_size/total_events:.2f}%)'),row = 1, col =1)\n",
    "    fig.add_trace(go.Histogram(x=sel_NC,marker_color = 'black',xbins=dict(start = bins[0],end = bins[1],size=bins[2]),\n",
    "                              name = f'NC ({NC_size}, {100*NC_size/total_events:.2f}%)'),row = 1, col =1)\n",
    "    fig.add_trace(go.Histogram(x=sel_other,marker_color = 'purple',xbins=dict(start = bins[0],end = bins[1],size=bins[2]),\n",
    "                              name = f'Other ({other_size}, {100*other_size/total_events:.2f}%)'),row = 1, col =1)\n",
    "    \n",
    "    if selection != 'Numu':\n",
    "        #numu_size =  len(df[metric][mask_other_numu][reco_signal][mask])\n",
    "        fig.add_trace(go.Histogram(x=sel_numu_other,marker_color = 'orange',xbins=dict(start = bins[0],end = bins[1],size=bins[2]),\n",
    "                                  name = f'Other \\u03BD<sub>e</sub> ({numu_size}, {100*numu_size/total_events:.2f}%)'),row = 1, col =1)\n",
    "        fig.add_trace(go.Histogram(x=signal,marker_color = 'darkgreen',xbins=dict(start = bins[0],end = bins[1],size=bins[2]),\n",
    "                              name = f'{selection} ({signal_size}, {100*signal_size/total_events:.2f}%)'),row = 1, col =1)\n",
    "    else:\n",
    "        fig.add_trace(go.Histogram(x=signal,marker_color = 'darkgreen',xbins=dict(start = bins[0],end = bins[1],size=bins[2]),\n",
    "                              name = f'\\u03BD<sub>e</sub> ({signal_size}, {100*signal_size/total_events:.2f}%)'),row = 1, col =1)\n",
    "    \n",
    "    \n",
    "    fig.update_xaxes(title_text = xaxis_name,row = 1, col = 1)\n",
    "    fig.update_yaxes(title_text = \"Entries\",row = 1, col = 1,)\n",
    "    fig.update_layout(font = dict(size=26),legend=dict(\n",
    "        yanchor=\"top\",\n",
    "        y=0.99,\n",
    "        xanchor=\"left\",\n",
    "        x=0.43,\n",
    "        bgcolor=\"LightSteelBlue\",\n",
    "            bordercolor=\"Black\",\n",
    "    ))\n",
    "    fig.update_annotations(font_size=46)\n",
    "    fig.update_layout(barmode='stack')\n",
    "    fig.update_layout(xaxis = dict(range = bounds))\n",
    "    fig.update_layout(height = 900, width = 900,showlegend = True)\n",
    "    fig.show()"
   ]
  },
  {
   "cell_type": "code",
   "execution_count": 31,
   "id": "e1f9c08a-73be-4c30-8a1d-2f4dffe376ec",
   "metadata": {},
   "outputs": [
    {
     "name": "stdout",
     "output_type": "stream",
     "text": [
      "985 0 0 111 143 15 42 0\n",
      "Purity:  0.7600308641975309\n",
      "Number of signal:  985  Number of selected: 1296\n"
     ]
    },
    {
     "data": {
      "application/vnd.plotly.v1+json": {
       "config": {
        "plotlyServerURL": "https://plot.ly"
       },
       "data": [
        {
         "marker": {
          "color": "yellow"
         },
         "name": "Cosmics (15, 1.16%)",
         "type": "histogram",
         "x": [
          1083.716031,
          1339.742661,
          1735.547195,
          4938.851825,
          1024.787854,
          406.385606,
          708.067214,
          616.367244,
          923.443092,
          1366.698258,
          1444.80428,
          1032.227311,
          878.778546,
          865.511749,
          764.595253
         ],
         "xaxis": "x",
         "xbins": {
          "end": 6000,
          "size": 250,
          "start": 0
         },
         "yaxis": "y"
        },
        {
         "marker": {
          "color": "blue"
         },
         "name": "ν<sub>μ</sub> (111, 8.56%)",
         "type": "histogram",
         "x": [
          2582.395673,
          3302.228661,
          222.29185,
          545.343651,
          276.580046,
          314.879752,
          253.42312,
          413.440846,
          717.692477,
          147.308547,
          307.466427,
          286.601917,
          426.613671,
          3218.413319,
          582.654783,
          497.148484,
          2871.531402,
          216.872194,
          1444.636307,
          271.217783,
          308.513697,
          312.236396,
          4381.085271,
          1965.81772,
          674.459305,
          409.285972,
          1173.630178,
          515.825804,
          324.26349,
          1047.636502,
          1156.361318,
          264.018669,
          795.681947,
          889.188614,
          1180.895128,
          418.985708,
          2647.079832,
          578.194062,
          128.050439,
          356.197928,
          1252.569191,
          340.490685
         ],
         "xaxis": "x",
         "xbins": {
          "end": 6000,
          "size": 250,
          "start": 0
         },
         "yaxis": "y"
        },
        {
         "marker": {
          "color": "black"
         },
         "name": "NC (143, 11.03%)",
         "type": "histogram",
         "x": [
          556.043249,
          955.497302,
          313.647828,
          581.904804,
          2240.720079,
          272.497386,
          1947.65569,
          644.978477,
          970.786349,
          517.834743,
          778.530142,
          249.791368,
          848.371933,
          2897.708648,
          209.243514,
          311.598659,
          1090.311923,
          605.447132,
          397.372867,
          370.198436,
          237.987235,
          349.82684,
          284.487934,
          554.149236,
          2387.111006,
          374.319354,
          691.480004,
          363.562788,
          290.359709,
          249.149915,
          318.241684,
          3535.214817,
          366.946319,
          2147.920171,
          1507.278883,
          249.163732,
          346.37123,
          469.913422,
          370.754509,
          1262.354127,
          341.937607,
          2175.457753,
          1043.129992,
          536.846312,
          1283.971476,
          1105.17502,
          3035.696181,
          538.526737,
          200.646134,
          626.891711,
          706.906847,
          165.070935,
          1315.230829,
          3664.897128,
          1073.013452,
          208.668837,
          495.163991,
          682.522464,
          328.360001,
          615.509159,
          292.817459,
          1230.024934,
          234.876943,
          1467.978172,
          894.355955,
          1951.749989,
          209.193273,
          161.352457,
          215.797862,
          216.601611,
          377.208725,
          1431.25539,
          2278.433919,
          366.286941,
          2503.368239,
          623.467923,
          771.418918,
          468.287481,
          787.322768,
          415.356166,
          294.656793,
          406.510115,
          2866.305738,
          880.983697,
          414.868516,
          1849.692425,
          1043.278965,
          1716.248416,
          236.517561,
          2081.778653,
          2160.682739,
          1238.995672,
          157.90341,
          727.078957,
          293.035296,
          1676.356978,
          842.689711,
          3695.187498,
          444.355358,
          1605.065959,
          364.388047,
          447.839283,
          353.708365,
          850.336814,
          586.23495,
          2271.828346,
          419.240003,
          2069.839273,
          759.831507,
          186.366501,
          1938.658259,
          739.623642,
          895.529712,
          195.342837,
          697.195056,
          1816.531624,
          454.388946,
          3093.855851,
          1107.394132,
          348.385939,
          807.278254,
          508.842471,
          681.02311,
          346.2005,
          317.602959,
          252.855418,
          248.740418,
          557.453084,
          1510.017223,
          541.69148,
          548.561606,
          888.997187,
          582.762984,
          643.945899,
          230.534613,
          385.136774,
          350.749748,
          171.426496,
          206.183572,
          509.140514,
          2034.701203,
          337.824828,
          328.90753
         ],
         "xaxis": "x",
         "xbins": {
          "end": 6000,
          "size": 250,
          "start": 0
         },
         "yaxis": "y"
        },
        {
         "marker": {
          "color": "purple"
         },
         "name": "Other (0, 0.00%)",
         "type": "histogram",
         "x": [],
         "xaxis": "x",
         "xbins": {
          "end": 6000,
          "size": 250,
          "start": 0
         },
         "yaxis": "y"
        },
        {
         "marker": {
          "color": "orange"
         },
         "name": "Other ν<sub>e</sub> (111, 8.56%)",
         "type": "histogram",
         "x": [
          2282.488559,
          753.356838,
          739.488645,
          4639.064569,
          932.716253,
          3200.742727,
          2196.088637,
          2277.374425,
          2461.64075,
          762.333096,
          468.71503,
          1787.788135,
          2263.432773,
          1106.555491,
          3133.994908,
          944.096498,
          3234.04975,
          2104.136307,
          3768.070851,
          480.484176,
          1409.292231,
          1310.764808,
          563.512958,
          2606.556082,
          1078.331236,
          946.919946,
          2742.770517,
          1531.759816,
          772.683222,
          1084.491409,
          434.78956,
          5946.886507,
          1565.028362,
          1078.949554,
          2106.339613,
          1014.139296,
          1943.415239,
          1158.214017,
          1505.37574,
          812.144377,
          1523.703686,
          2641.603378,
          482.520948,
          868.949274,
          827.419979,
          1794.687043,
          496.881858,
          441.103746,
          3910.506108,
          1102.228232,
          904.176264,
          902.901568,
          624.382029,
          639.33118,
          3442.757708,
          1611.371308,
          2082.791105,
          2940.815427,
          1245.375447,
          1904.178428,
          1401.92232,
          720.502236,
          4167.307642,
          755.685434,
          1265.477901,
          201.375214,
          3614.676664,
          1150.324112,
          3051.64029,
          319.560296,
          611.440963,
          1274.028475,
          3556.25287,
          448.769448,
          1123.367211,
          836.170503,
          340.730619,
          644.671129,
          1107.231034,
          2439.653023,
          385.88539,
          1516.053375,
          993.619232,
          758.14401,
          2249.347074,
          1821.481987,
          1598.281225,
          514.201196,
          1825.126322,
          1212.757028,
          295.764247,
          2239.652384,
          1807.569228,
          1418.296652,
          717.538485,
          718.536805,
          2105.144219,
          669.161062,
          1090.725773,
          567.912004,
          841.810812,
          1360.069966,
          1468.050593,
          1750.481677,
          129.679377,
          2103.487683,
          1537.273654,
          1218.764304,
          1018.552596,
          554.709174,
          1856.698527
         ],
         "xaxis": "x",
         "xbins": {
          "end": 6000,
          "size": 250,
          "start": 0
         },
         "yaxis": "y"
        },
        {
         "marker": {
          "color": "darkgreen"
         },
         "name": "1muNp (985, 76.00%)",
         "type": "histogram",
         "x": [
          1126.180358,
          2190.927874,
          1194.635394,
          797.848363,
          1200.206586,
          608.370018,
          736.955417,
          921.796996,
          1650.927133,
          473.871417,
          1148.744906,
          1032.435091,
          858.03747,
          925.883259,
          1777.383599,
          904.769998,
          1164.015225,
          238.131601,
          1435.422864,
          4664.170103,
          1894.028175,
          280.824389,
          872.901673,
          449.336068,
          1350.70679,
          1490.072762,
          703.129185,
          935.971832,
          700.489995,
          2521.823199,
          998.139819,
          599.038695,
          2273.042874,
          1852.044071,
          1332.788086,
          479.023169,
          425.980089,
          3657.466679,
          1444.67374,
          793.692477,
          1838.921948,
          1948.84879,
          289.830944,
          636.462933,
          3019.704769,
          698.170695,
          1182.386999,
          1007.075825,
          814.681614,
          610.765817,
          1368.047644,
          2071.178605,
          1175.951838,
          1521.52201,
          1162.040924,
          652.09692,
          746.674459,
          720.524031,
          1266.247112,
          987.015647,
          2921.622688,
          1578.777108,
          591.936668,
          1166.739709,
          877.232493,
          1300.86326,
          5253.373962,
          444.567541,
          1905.625264,
          726.148901,
          1735.657714,
          969.906303,
          1285.591124,
          474.673254,
          653.482603,
          980.503187,
          1792.470358,
          964.188271,
          435.606509,
          777.242362,
          1569.593356,
          1140.601488,
          954.36348,
          339.795381,
          1568.763682,
          1071.892188,
          1711.054329,
          779.010526,
          414.097042,
          1623.015504,
          1713.352403,
          1495.928111,
          1091.783397,
          3616.026884,
          1706.319084,
          1889.667621,
          523.020289,
          2059.173844,
          1602.114076,
          181.442685,
          236.668622,
          2457.225187,
          499.798542,
          335.312009,
          1713.42289,
          363.574375,
          746.563628,
          1069.375706,
          1402.541538,
          985.800713,
          1160.406333,
          848.600902,
          1590.754559,
          2238.562607,
          1181.99593,
          2878.171623,
          759.461169,
          2321.768489,
          499.697043,
          608.079696,
          677.455457,
          1129.143276,
          578.289449,
          537.105611,
          1347.726406,
          385.023338,
          1362.938099,
          1358.90878,
          1611.575662,
          1778.224122,
          478.922907,
          2790.540275,
          645.861982,
          986.645477,
          639.30862,
          460.586592,
          874.728198,
          435.192326,
          646.362965,
          914.144382,
          762.115927,
          1358.576547,
          1399.695491,
          1095.242027,
          4448.4683,
          1439.212033,
          767.805708,
          1259.467101,
          1173.187551,
          839.931009,
          2367.618727,
          242.304647,
          605.760011,
          1243.837125,
          992.62224,
          1301.622798,
          5379.190182,
          450.905316,
          757.091702,
          988.839682,
          762.112148,
          997.724618,
          1667.399995,
          872.716903,
          749.597097,
          1054.751134,
          1526.014143,
          2039.426195,
          707.248904,
          1224.106703,
          659.840103,
          533.790415,
          720.302362,
          505.563512,
          487.202066,
          1841.885459,
          587.581115,
          1091.441331,
          956.004462,
          1127.077783,
          657.791001,
          1226.573395,
          547.59144,
          848.508093,
          619.499657,
          596.187012,
          802.046633,
          396.42143,
          185.74137,
          444.325181,
          839.480723,
          837.014719,
          588.129647,
          1198.926359,
          1849.279256,
          602.607473,
          2288.958179,
          666.275872,
          842.061976,
          1065.912468,
          2436.662695,
          1124.214005,
          1229.595214,
          813.020563,
          637.135364,
          722.569033,
          1477.450985,
          652.829103,
          3459.733037,
          2180.172128,
          280.035009,
          1213.906847,
          601.470597,
          1476.064527,
          3540.226713,
          1635.228581,
          1470.714651,
          1468.662855,
          1540.842471,
          528.050083,
          1882.515201,
          1660.043504,
          607.743822,
          799.067542,
          2074.298947,
          2885.015363,
          1465.553928,
          733.886555,
          886.050755,
          586.747774,
          1016.006928,
          534.202114,
          844.418302,
          392.746289,
          370.829239,
          4830.549797,
          358.914191,
          758.708975,
          832.267541,
          1604.658765,
          516.35223,
          525.092964,
          1307.454169,
          589.073247,
          383.248072,
          677.621883,
          3895.42142,
          726.109635,
          551.821944,
          2040.266072,
          806.600214,
          553.68829,
          2202.332936,
          677.658994,
          1175.257359,
          796.996592,
          1278.692763,
          3090.242998,
          754.545377,
          2691.775912,
          1292.720877,
          1104.297952,
          482.140983,
          2551.925451,
          1057.598841,
          1247.561657,
          938.307995,
          694.778532,
          2334.96594,
          523.37924,
          1219.256322,
          478.946506,
          2892.33282,
          695.834452,
          239.863447,
          3485.822854,
          2202.519142,
          1594.717562,
          962.781265,
          941.620213,
          607.666702,
          1200.279242,
          765.844341,
          926.686511,
          300.725905,
          2057.21837,
          451.971471,
          501.156201,
          402.744682,
          1348.843857,
          1361.29925,
          1199.476603,
          3051.32532,
          1602.934112,
          407.492072,
          431.837412,
          1801.970528,
          765.859261,
          2408.126485,
          887.467269,
          990.871165,
          898.285218,
          296.123941,
          782.582007,
          864.340725,
          1851.067778,
          2109.272345,
          155.627879,
          589.090623,
          656.669773,
          628.739864,
          2374.60573,
          1622.692245,
          719.507994,
          3033.231913,
          872.903621,
          1563.323982,
          1085.180317,
          929.503226,
          2026.836562,
          385.358997,
          623.785171,
          957.481793,
          2234.312419,
          500.696543,
          331.740025,
          1094.848994,
          756.324771,
          2137.023788,
          1349.81911,
          1060.19619,
          1597.785939,
          1356.508707,
          3407.947825,
          1274.853439,
          387.784029,
          409.368597,
          1056.766881,
          732.429562,
          1572.385135,
          936.539458,
          2941.029217,
          696.307782,
          1336.310817,
          1677.535047,
          6038.846923,
          3449.90493,
          1637.934636,
          979.011323,
          688.891605,
          598.958551,
          926.074907,
          3519.711056,
          2287.336379,
          4731.556153,
          519.720182,
          1304.026994,
          1684.161327,
          501.100943,
          872.871997,
          785.648335,
          997.979621,
          401.838271,
          541.616757,
          866.705187,
          1942.197648,
          745.475506,
          672.200444,
          1433.986175,
          2782.660921,
          1405.204816,
          3126.137274,
          842.014522,
          531.300426,
          844.241454,
          1786.867115,
          1395.444394,
          2398.456062,
          1526.442392,
          3982.692075,
          932.261683,
          5037.613281,
          1312.206234,
          1031.248751,
          1295.03183,
          1741.741498,
          1440.122319,
          272.370996,
          1079.819864,
          342.621073,
          798.021602,
          1179.391171,
          811.109139,
          1668.946082,
          875.883248,
          1266.736358,
          460.497973,
          652.742056,
          1898.583396,
          3373.471156,
          1514.354933,
          1304.829301,
          305.867869,
          1360.251875,
          3422.963581,
          771.519874,
          471.031813,
          1821.604788,
          1249.690682,
          608.956932,
          1539.788861,
          1360.941983,
          4478.764496,
          1292.901956,
          498.173,
          737.703606,
          1193.07464,
          478.907611,
          2307.654905,
          837.281533,
          1736.132902,
          2307.039797,
          229.447767,
          1238.979666,
          1242.402392,
          1358.493284,
          734.284522,
          540.925624,
          596.901008,
          813.815117,
          1428.997701,
          721.513115,
          741.321601,
          1972.614692,
          1462.874825,
          2048.079592,
          1586.862121,
          382.057264,
          309.048553,
          1252.703193,
          524.467272,
          794.134434,
          643.305664,
          722.58839,
          1458.476522,
          804.045656,
          1035.971204,
          1929.051226,
          921.929485,
          3288.325332,
          849.128256,
          432.006139,
          523.566938,
          512.726728,
          1482.730106,
          1051.48978,
          488.656453,
          1060.744803,
          669.890026,
          877.508787,
          1247.444393,
          1189.451481,
          1489.892419,
          317.82033,
          638.736584,
          2757.092308,
          1290.048307,
          980.694701,
          664.897158,
          423.600648,
          3283.018906,
          1024.845716,
          1153.581342,
          1791.785948,
          1296.441531,
          1577.606465,
          665.192983,
          803.350966,
          1025.527473,
          1358.514216,
          1691.168029,
          517.457992,
          815.430458,
          3165.317952,
          1145.258167,
          638.760919,
          1283.429066,
          2530.251064,
          549.715448,
          1171.678358,
          531.051881,
          953.021603,
          1179.388274,
          603.703685,
          3746.281214,
          1454.955696,
          667.71901,
          1993.149438,
          1129.926822,
          815.507479,
          730.207305,
          1202.117323,
          1680.18262,
          748.518027,
          502.185956,
          221.625715,
          628.665497,
          1021.980065,
          646.014086,
          1086.287228,
          1369.273638,
          1367.350692,
          1197.06993,
          709.665272,
          1252.031228,
          724.905125,
          721.978402,
          1597.827936,
          1161.111325,
          2566.616798,
          1359.215538,
          2147.403985,
          1344.87717,
          1044.886257,
          2491.444306,
          293.154112,
          3710.184393,
          1202.317741,
          618.442318,
          588.335086,
          1427.046486,
          1171.225716,
          756.425932,
          1137.614528,
          1568.528557,
          614.208382,
          1037.258814,
          608.900488,
          447.214394,
          733.922733,
          552.214779,
          567.506717,
          1902.274166,
          1732.981743,
          778.696534,
          970.582088,
          691.34428,
          568.436362,
          454.300878,
          792.182048,
          1205.68819,
          608.308901,
          1035.432779,
          901.05416,
          962.228512,
          705.897306,
          1476.18195,
          660.33449,
          484.639489,
          1301.867728,
          723.806024,
          1940.440667,
          1523.30472,
          5178.187298,
          2366.190653,
          1211.570085,
          663.007699,
          1099.079192,
          811.100492,
          665.303703,
          578.84051,
          1230.578101,
          397.848995,
          1076.424441,
          505.159644,
          5113.1542,
          1747.942979,
          1449.376086,
          832.922877,
          735.008621,
          907.238163,
          2005.385,
          1803.902747,
          1440.624158,
          781.860022,
          2182.143458,
          3876.880167,
          862.508417,
          1139.581967,
          456.700598,
          1151.046078,
          2016.21641,
          1842.279826,
          1484.380708,
          2240.947561,
          632.589587,
          783.96297,
          1382.502802,
          1324.798364,
          487.047142,
          561.051751,
          282.580934,
          719.715685,
          604.408941,
          329.488803,
          995.392741,
          657.688563,
          667.858398,
          636.05795,
          2167.303563,
          1246.87719,
          914.308961,
          613.04874,
          1677.680943,
          903.44422,
          524.551226,
          1109.471319,
          2052.944354,
          342.647123,
          4810.015031,
          401.813023,
          1084.680853,
          770.175516,
          553.227209,
          3411.420315,
          1042.040094,
          630.015516,
          628.967556,
          410.994932,
          675.065171,
          980.414918,
          2036.285947,
          198.724579,
          966.563593,
          716.718577,
          1195.61086,
          1569.74047,
          1194.369537,
          161.586376,
          939.930329,
          524.674991,
          1967.767042,
          2174.786432,
          1404.531547,
          1801.001379,
          260.693294,
          878.857925,
          1264.135678,
          1168.293497,
          434.002802,
          4784.089667,
          2896.638802,
          1178.213583,
          660.405946,
          1355.79229,
          1217.186085,
          571.477484,
          958.796034,
          1130.187551,
          836.815893,
          2378.978657,
          1689.590682,
          356.833572,
          1656.2407,
          2907.727912,
          1764.124753,
          920.01059,
          733.048072,
          950.706703,
          2542.173695,
          238.253538,
          1220.840793,
          4207.571864,
          657.124733,
          641.485737,
          391.596776,
          1727.829654,
          1290.762172,
          1092.100503,
          695.4449,
          1305.052915,
          1047.907729,
          1279.522201,
          825.527915,
          578.991077,
          694.249106,
          1234.560167,
          907.897144,
          1421.01354,
          2087.872698,
          3948.180709,
          771.37147,
          1659.030027,
          979.452187,
          2028.280892,
          506.263928,
          1334.151471,
          804.807724,
          826.025152,
          405.11306,
          4130.314203,
          668.944434,
          883.373435,
          901.367547,
          451.533199,
          1132.335723,
          1233.235559,
          812.714715,
          1724.494188,
          1744.525914,
          936.653401,
          462.968652,
          5243.521329,
          1713.523483,
          615.938549,
          922.346541,
          638.583211,
          1611.450285,
          272.560892,
          860.547659,
          449.107217,
          1022.484161,
          1377.043621,
          1065.596895,
          2062.108454,
          1756.814717,
          1041.709854,
          1571.218574,
          1447.316244,
          615.75554,
          1945.3401,
          693.032788,
          261.668225,
          1203.211718,
          429.260378,
          1245.982667,
          766.782535,
          877.411057,
          736.354666,
          2780.081083,
          980.318999,
          2000.013816,
          927.191312,
          903.424156,
          1415.540584,
          588.910658,
          1056.025001,
          2978.186811,
          726.286704,
          495.898866,
          775.093199,
          853.345871,
          1422.92736,
          2841.89187,
          1355.281066,
          2179.619242,
          845.194962,
          536.073201,
          1829.061215,
          2480.205315,
          3405.544936,
          2527.423225,
          598.381646,
          593.616127,
          950.159331,
          968.09851,
          2007.488749,
          906.708105,
          639.098215,
          2271.333565,
          528.743901,
          1741.364317,
          1246.974932,
          1025.44659,
          818.320501,
          992.350594,
          701.403283,
          860.935157,
          1634.042435,
          477.463365,
          968.81869,
          152.721149,
          294.630614,
          896.172977,
          1078.632258,
          239.345093,
          1053.317359,
          842.218029,
          1734.222407,
          681.13567,
          968.296016,
          987.085994,
          247.662275,
          1662.841173,
          1520.380424,
          2261.153963,
          371.940638,
          1683.965655,
          832.198008,
          372.722826,
          1595.584351,
          1626.795288,
          1150.83973,
          2625.499432,
          3129.648944,
          492.466191,
          451.025023,
          1624.189446,
          1279.40267,
          571.26759,
          675.174158,
          1811.788514,
          519.980097,
          853.241487,
          1548.865282,
          941.313726,
          282.271421,
          1512.328866,
          1817.008668,
          679.814745,
          2532.757021,
          791.925724,
          614.591566,
          662.403108,
          1591.586514,
          1671.013169,
          576.145111,
          1079.455651,
          2334.727319,
          477.296666,
          626.781425,
          2008.483452,
          692.916968,
          1471.350167,
          539.396868,
          2061.32699,
          924.344904,
          778.956064,
          809.973834,
          863.933753,
          798.534763,
          1448.260481,
          1189.387633,
          1135.135737,
          1097.485242,
          2550.497453,
          1867.950853,
          1349.446244,
          3414.017883,
          2053.101691,
          1124.684477,
          654.235622,
          583.771984,
          2091.106977,
          594.444893,
          440.002165,
          2696.579914,
          1158.668471,
          331.190429,
          387.724285,
          847.326712,
          766.376502,
          662.448569,
          1824.180379,
          2423.288518,
          543.701959,
          585.325518,
          2005.753199,
          326.779941,
          876.759983,
          1099.653726,
          598.504357,
          610.018169,
          1105.927078,
          977.678175,
          738.768115,
          605.103166,
          1190.595334,
          1429.088677,
          1022.748909,
          163.526314,
          487.269166,
          1294.13206,
          548.505753,
          355.723923,
          2164.033959,
          883.085697,
          1388.575409,
          276.60666,
          364.393509,
          1064.945752,
          1451.62538,
          498.816721,
          739.279512,
          624.954353,
          576.521437,
          205.312644,
          616.083491,
          1104.365969,
          1014.963383,
          142.514314,
          822.612062,
          1167.526372,
          1586.957793,
          1058.644658,
          703.299121,
          2674.393235,
          610.009167,
          969.906204,
          1695.629822,
          462.284989,
          492.886222,
          2685.668399,
          856.897331,
          1484.555035,
          467.299158,
          952.155685,
          856.569363,
          1523.73292,
          1529.501345,
          603.658954,
          1740.111327,
          1079.243446,
          590.793226,
          722.286812,
          589.828246,
          705.411847,
          599.826685,
          1098.711353,
          890.321719,
          287.813333,
          513.423377,
          1814.415557,
          861.728017,
          1337.425537,
          481.512494,
          675.456603,
          722.923592,
          2206.525737,
          2072.427218,
          826.775322,
          408.018912,
          1270.302463,
          799.036773,
          226.323614,
          1263.522022,
          1066.442826,
          900.780474,
          1261.911124,
          1733.111722,
          1293.721654,
          154.770265,
          1367.929142,
          1542.318465,
          965.257684,
          1179.781933,
          842.260662,
          3654.542648,
          2513.165948,
          2421.769584,
          486.753847,
          514.736347,
          1053.658315,
          1275.832022,
          1295.340377,
          339.936284,
          560.922519,
          816.886125,
          711.084362,
          597.331025,
          1159.691949,
          834.878793,
          385.571387,
          304.901701,
          1603.722069,
          544.571951,
          1013.630131,
          2012.085185,
          1025.01741,
          1652.650499,
          2252.288045,
          400.818416,
          1101.947665,
          864.625889,
          2435.036713
         ],
         "xaxis": "x",
         "xbins": {
          "end": 6000,
          "size": 250,
          "start": 0
         },
         "yaxis": "y"
        }
       ],
       "layout": {
        "annotations": [
         {
          "font": {
           "size": 46
          },
          "showarrow": false,
          "text": "<span style='font-size: 42px;'>Selected 1muNp Events",
          "x": 0.5,
          "xanchor": "center",
          "xref": "paper",
          "y": 1,
          "yanchor": "bottom",
          "yref": "paper"
         }
        ],
        "barmode": "stack",
        "font": {
         "size": 26
        },
        "height": 900,
        "legend": {
         "bgcolor": "LightSteelBlue",
         "bordercolor": "Black",
         "x": 0.43,
         "xanchor": "left",
         "y": 0.99,
         "yanchor": "top"
        },
        "showlegend": true,
        "template": {
         "data": {
          "bar": [
           {
            "error_x": {
             "color": "#2a3f5f"
            },
            "error_y": {
             "color": "#2a3f5f"
            },
            "marker": {
             "line": {
              "color": "#E5ECF6",
              "width": 0.5
             },
             "pattern": {
              "fillmode": "overlay",
              "size": 10,
              "solidity": 0.2
             }
            },
            "type": "bar"
           }
          ],
          "barpolar": [
           {
            "marker": {
             "line": {
              "color": "#E5ECF6",
              "width": 0.5
             },
             "pattern": {
              "fillmode": "overlay",
              "size": 10,
              "solidity": 0.2
             }
            },
            "type": "barpolar"
           }
          ],
          "carpet": [
           {
            "aaxis": {
             "endlinecolor": "#2a3f5f",
             "gridcolor": "white",
             "linecolor": "white",
             "minorgridcolor": "white",
             "startlinecolor": "#2a3f5f"
            },
            "baxis": {
             "endlinecolor": "#2a3f5f",
             "gridcolor": "white",
             "linecolor": "white",
             "minorgridcolor": "white",
             "startlinecolor": "#2a3f5f"
            },
            "type": "carpet"
           }
          ],
          "choropleth": [
           {
            "colorbar": {
             "outlinewidth": 0,
             "ticks": ""
            },
            "type": "choropleth"
           }
          ],
          "contour": [
           {
            "colorbar": {
             "outlinewidth": 0,
             "ticks": ""
            },
            "colorscale": [
             [
              0,
              "#0d0887"
             ],
             [
              0.1111111111111111,
              "#46039f"
             ],
             [
              0.2222222222222222,
              "#7201a8"
             ],
             [
              0.3333333333333333,
              "#9c179e"
             ],
             [
              0.4444444444444444,
              "#bd3786"
             ],
             [
              0.5555555555555556,
              "#d8576b"
             ],
             [
              0.6666666666666666,
              "#ed7953"
             ],
             [
              0.7777777777777778,
              "#fb9f3a"
             ],
             [
              0.8888888888888888,
              "#fdca26"
             ],
             [
              1,
              "#f0f921"
             ]
            ],
            "type": "contour"
           }
          ],
          "contourcarpet": [
           {
            "colorbar": {
             "outlinewidth": 0,
             "ticks": ""
            },
            "type": "contourcarpet"
           }
          ],
          "heatmap": [
           {
            "colorbar": {
             "outlinewidth": 0,
             "ticks": ""
            },
            "colorscale": [
             [
              0,
              "#0d0887"
             ],
             [
              0.1111111111111111,
              "#46039f"
             ],
             [
              0.2222222222222222,
              "#7201a8"
             ],
             [
              0.3333333333333333,
              "#9c179e"
             ],
             [
              0.4444444444444444,
              "#bd3786"
             ],
             [
              0.5555555555555556,
              "#d8576b"
             ],
             [
              0.6666666666666666,
              "#ed7953"
             ],
             [
              0.7777777777777778,
              "#fb9f3a"
             ],
             [
              0.8888888888888888,
              "#fdca26"
             ],
             [
              1,
              "#f0f921"
             ]
            ],
            "type": "heatmap"
           }
          ],
          "heatmapgl": [
           {
            "colorbar": {
             "outlinewidth": 0,
             "ticks": ""
            },
            "colorscale": [
             [
              0,
              "#0d0887"
             ],
             [
              0.1111111111111111,
              "#46039f"
             ],
             [
              0.2222222222222222,
              "#7201a8"
             ],
             [
              0.3333333333333333,
              "#9c179e"
             ],
             [
              0.4444444444444444,
              "#bd3786"
             ],
             [
              0.5555555555555556,
              "#d8576b"
             ],
             [
              0.6666666666666666,
              "#ed7953"
             ],
             [
              0.7777777777777778,
              "#fb9f3a"
             ],
             [
              0.8888888888888888,
              "#fdca26"
             ],
             [
              1,
              "#f0f921"
             ]
            ],
            "type": "heatmapgl"
           }
          ],
          "histogram": [
           {
            "marker": {
             "pattern": {
              "fillmode": "overlay",
              "size": 10,
              "solidity": 0.2
             }
            },
            "type": "histogram"
           }
          ],
          "histogram2d": [
           {
            "colorbar": {
             "outlinewidth": 0,
             "ticks": ""
            },
            "colorscale": [
             [
              0,
              "#0d0887"
             ],
             [
              0.1111111111111111,
              "#46039f"
             ],
             [
              0.2222222222222222,
              "#7201a8"
             ],
             [
              0.3333333333333333,
              "#9c179e"
             ],
             [
              0.4444444444444444,
              "#bd3786"
             ],
             [
              0.5555555555555556,
              "#d8576b"
             ],
             [
              0.6666666666666666,
              "#ed7953"
             ],
             [
              0.7777777777777778,
              "#fb9f3a"
             ],
             [
              0.8888888888888888,
              "#fdca26"
             ],
             [
              1,
              "#f0f921"
             ]
            ],
            "type": "histogram2d"
           }
          ],
          "histogram2dcontour": [
           {
            "colorbar": {
             "outlinewidth": 0,
             "ticks": ""
            },
            "colorscale": [
             [
              0,
              "#0d0887"
             ],
             [
              0.1111111111111111,
              "#46039f"
             ],
             [
              0.2222222222222222,
              "#7201a8"
             ],
             [
              0.3333333333333333,
              "#9c179e"
             ],
             [
              0.4444444444444444,
              "#bd3786"
             ],
             [
              0.5555555555555556,
              "#d8576b"
             ],
             [
              0.6666666666666666,
              "#ed7953"
             ],
             [
              0.7777777777777778,
              "#fb9f3a"
             ],
             [
              0.8888888888888888,
              "#fdca26"
             ],
             [
              1,
              "#f0f921"
             ]
            ],
            "type": "histogram2dcontour"
           }
          ],
          "mesh3d": [
           {
            "colorbar": {
             "outlinewidth": 0,
             "ticks": ""
            },
            "type": "mesh3d"
           }
          ],
          "parcoords": [
           {
            "line": {
             "colorbar": {
              "outlinewidth": 0,
              "ticks": ""
             }
            },
            "type": "parcoords"
           }
          ],
          "pie": [
           {
            "automargin": true,
            "type": "pie"
           }
          ],
          "scatter": [
           {
            "fillpattern": {
             "fillmode": "overlay",
             "size": 10,
             "solidity": 0.2
            },
            "type": "scatter"
           }
          ],
          "scatter3d": [
           {
            "line": {
             "colorbar": {
              "outlinewidth": 0,
              "ticks": ""
             }
            },
            "marker": {
             "colorbar": {
              "outlinewidth": 0,
              "ticks": ""
             }
            },
            "type": "scatter3d"
           }
          ],
          "scattercarpet": [
           {
            "marker": {
             "colorbar": {
              "outlinewidth": 0,
              "ticks": ""
             }
            },
            "type": "scattercarpet"
           }
          ],
          "scattergeo": [
           {
            "marker": {
             "colorbar": {
              "outlinewidth": 0,
              "ticks": ""
             }
            },
            "type": "scattergeo"
           }
          ],
          "scattergl": [
           {
            "marker": {
             "colorbar": {
              "outlinewidth": 0,
              "ticks": ""
             }
            },
            "type": "scattergl"
           }
          ],
          "scattermapbox": [
           {
            "marker": {
             "colorbar": {
              "outlinewidth": 0,
              "ticks": ""
             }
            },
            "type": "scattermapbox"
           }
          ],
          "scatterpolar": [
           {
            "marker": {
             "colorbar": {
              "outlinewidth": 0,
              "ticks": ""
             }
            },
            "type": "scatterpolar"
           }
          ],
          "scatterpolargl": [
           {
            "marker": {
             "colorbar": {
              "outlinewidth": 0,
              "ticks": ""
             }
            },
            "type": "scatterpolargl"
           }
          ],
          "scatterternary": [
           {
            "marker": {
             "colorbar": {
              "outlinewidth": 0,
              "ticks": ""
             }
            },
            "type": "scatterternary"
           }
          ],
          "surface": [
           {
            "colorbar": {
             "outlinewidth": 0,
             "ticks": ""
            },
            "colorscale": [
             [
              0,
              "#0d0887"
             ],
             [
              0.1111111111111111,
              "#46039f"
             ],
             [
              0.2222222222222222,
              "#7201a8"
             ],
             [
              0.3333333333333333,
              "#9c179e"
             ],
             [
              0.4444444444444444,
              "#bd3786"
             ],
             [
              0.5555555555555556,
              "#d8576b"
             ],
             [
              0.6666666666666666,
              "#ed7953"
             ],
             [
              0.7777777777777778,
              "#fb9f3a"
             ],
             [
              0.8888888888888888,
              "#fdca26"
             ],
             [
              1,
              "#f0f921"
             ]
            ],
            "type": "surface"
           }
          ],
          "table": [
           {
            "cells": {
             "fill": {
              "color": "#EBF0F8"
             },
             "line": {
              "color": "white"
             }
            },
            "header": {
             "fill": {
              "color": "#C8D4E3"
             },
             "line": {
              "color": "white"
             }
            },
            "type": "table"
           }
          ]
         },
         "layout": {
          "annotationdefaults": {
           "arrowcolor": "#2a3f5f",
           "arrowhead": 0,
           "arrowwidth": 1
          },
          "autotypenumbers": "strict",
          "coloraxis": {
           "colorbar": {
            "outlinewidth": 0,
            "ticks": ""
           }
          },
          "colorscale": {
           "diverging": [
            [
             0,
             "#8e0152"
            ],
            [
             0.1,
             "#c51b7d"
            ],
            [
             0.2,
             "#de77ae"
            ],
            [
             0.3,
             "#f1b6da"
            ],
            [
             0.4,
             "#fde0ef"
            ],
            [
             0.5,
             "#f7f7f7"
            ],
            [
             0.6,
             "#e6f5d0"
            ],
            [
             0.7,
             "#b8e186"
            ],
            [
             0.8,
             "#7fbc41"
            ],
            [
             0.9,
             "#4d9221"
            ],
            [
             1,
             "#276419"
            ]
           ],
           "sequential": [
            [
             0,
             "#0d0887"
            ],
            [
             0.1111111111111111,
             "#46039f"
            ],
            [
             0.2222222222222222,
             "#7201a8"
            ],
            [
             0.3333333333333333,
             "#9c179e"
            ],
            [
             0.4444444444444444,
             "#bd3786"
            ],
            [
             0.5555555555555556,
             "#d8576b"
            ],
            [
             0.6666666666666666,
             "#ed7953"
            ],
            [
             0.7777777777777778,
             "#fb9f3a"
            ],
            [
             0.8888888888888888,
             "#fdca26"
            ],
            [
             1,
             "#f0f921"
            ]
           ],
           "sequentialminus": [
            [
             0,
             "#0d0887"
            ],
            [
             0.1111111111111111,
             "#46039f"
            ],
            [
             0.2222222222222222,
             "#7201a8"
            ],
            [
             0.3333333333333333,
             "#9c179e"
            ],
            [
             0.4444444444444444,
             "#bd3786"
            ],
            [
             0.5555555555555556,
             "#d8576b"
            ],
            [
             0.6666666666666666,
             "#ed7953"
            ],
            [
             0.7777777777777778,
             "#fb9f3a"
            ],
            [
             0.8888888888888888,
             "#fdca26"
            ],
            [
             1,
             "#f0f921"
            ]
           ]
          },
          "colorway": [
           "#636efa",
           "#EF553B",
           "#00cc96",
           "#ab63fa",
           "#FFA15A",
           "#19d3f3",
           "#FF6692",
           "#B6E880",
           "#FF97FF",
           "#FECB52"
          ],
          "font": {
           "color": "#2a3f5f"
          },
          "geo": {
           "bgcolor": "white",
           "lakecolor": "white",
           "landcolor": "#E5ECF6",
           "showlakes": true,
           "showland": true,
           "subunitcolor": "white"
          },
          "hoverlabel": {
           "align": "left"
          },
          "hovermode": "closest",
          "mapbox": {
           "style": "light"
          },
          "paper_bgcolor": "white",
          "plot_bgcolor": "#E5ECF6",
          "polar": {
           "angularaxis": {
            "gridcolor": "white",
            "linecolor": "white",
            "ticks": ""
           },
           "bgcolor": "#E5ECF6",
           "radialaxis": {
            "gridcolor": "white",
            "linecolor": "white",
            "ticks": ""
           }
          },
          "scene": {
           "xaxis": {
            "backgroundcolor": "#E5ECF6",
            "gridcolor": "white",
            "gridwidth": 2,
            "linecolor": "white",
            "showbackground": true,
            "ticks": "",
            "zerolinecolor": "white"
           },
           "yaxis": {
            "backgroundcolor": "#E5ECF6",
            "gridcolor": "white",
            "gridwidth": 2,
            "linecolor": "white",
            "showbackground": true,
            "ticks": "",
            "zerolinecolor": "white"
           },
           "zaxis": {
            "backgroundcolor": "#E5ECF6",
            "gridcolor": "white",
            "gridwidth": 2,
            "linecolor": "white",
            "showbackground": true,
            "ticks": "",
            "zerolinecolor": "white"
           }
          },
          "shapedefaults": {
           "line": {
            "color": "#2a3f5f"
           }
          },
          "ternary": {
           "aaxis": {
            "gridcolor": "white",
            "linecolor": "white",
            "ticks": ""
           },
           "baxis": {
            "gridcolor": "white",
            "linecolor": "white",
            "ticks": ""
           },
           "bgcolor": "#E5ECF6",
           "caxis": {
            "gridcolor": "white",
            "linecolor": "white",
            "ticks": ""
           }
          },
          "title": {
           "x": 0.05
          },
          "xaxis": {
           "automargin": true,
           "gridcolor": "white",
           "linecolor": "white",
           "ticks": "",
           "title": {
            "standoff": 15
           },
           "zerolinecolor": "white",
           "zerolinewidth": 2
          },
          "yaxis": {
           "automargin": true,
           "gridcolor": "white",
           "linecolor": "white",
           "ticks": "",
           "title": {
            "standoff": 15
           },
           "zerolinecolor": "white",
           "zerolinewidth": 2
          }
         }
        },
        "width": 900,
        "xaxis": {
         "anchor": "y",
         "domain": [
          0,
          1
         ],
         "range": [
          0,
          6000
         ],
         "title": {
          "text": "Reco Neutrino Energy [MeV]"
         },
         "type": "linear"
        },
        "yaxis": {
         "anchor": "x",
         "autorange": true,
         "domain": [
          0,
          1
         ],
         "range": [
          0,
          265.2631578947368
         ],
         "title": {
          "text": "Entries"
         }
        }
       }
      },
      "image/png": "[encoded data removed]",
      "text/html": [
       "<div>                            <div id=\"2d0a338b-e6d1-4399-9b21-3f5542044154\" class=\"plotly-graph-div\" style=\"height:900px; width:900px;\"></div>            <script type=\"text/javascript\">                require([\"plotly\"], function(Plotly) {                    window.PLOTLYENV=window.PLOTLYENV || {};                                    if (document.getElementById(\"2d0a338b-e6d1-4399-9b21-3f5542044154\")) {                    Plotly.newPlot(                        \"2d0a338b-e6d1-4399-9b21-3f5542044154\",                        [{\"marker\":{\"color\":\"yellow\"},\"name\":\"Cosmics (15, 1.16%)\",\"x\":[1083.716031,1339.742661,1735.547195,4938.851825,1024.787854,406.385606,708.067214,616.367244,923.443092,1366.698258,1444.80428,1032.227311,878.778546,865.511749,764.595253],\"xbins\":{\"end\":6000,\"size\":250,\"start\":0},\"type\":\"histogram\",\"xaxis\":\"x\",\"yaxis\":\"y\"},{\"marker\":{\"color\":\"blue\"},\"name\":\"\\u03bd\\u003csub\\u003e\\u03bc\\u003c\\u002fsub\\u003e (111, 8.56%)\",\"x\":[2582.395673,3302.228661,222.29185,545.343651,276.580046,314.879752,253.42312,413.440846,717.692477,147.308547,307.466427,286.601917,426.613671,3218.413319,582.654783,497.148484,2871.531402,216.872194,1444.636307,271.217783,308.513697,312.236396,4381.085271,1965.81772,674.459305,409.285972,1173.630178,515.825804,324.26349,1047.636502,1156.361318,264.018669,795.681947,889.188614,1180.895128,418.985708,2647.079832,578.194062,128.050439,356.197928,1252.569191,340.490685],\"xbins\":{\"end\":6000,\"size\":250,\"start\":0},\"type\":\"histogram\",\"xaxis\":\"x\",\"yaxis\":\"y\"},{\"marker\":{\"color\":\"black\"},\"name\":\"NC (143, 11.03%)\",\"x\":[556.043249,955.497302,313.647828,581.904804,2240.720079,272.497386,1947.65569,644.978477,970.786349,517.834743,778.530142,249.791368,848.371933,2897.708648,209.243514,311.598659,1090.311923,605.447132,397.372867,370.198436,237.987235,349.82684,284.487934,554.149236,2387.111006,374.319354,691.480004,363.562788,290.359709,249.149915,318.241684,3535.214817,366.946319,2147.920171,1507.278883,249.163732,346.37123,469.913422,370.754509,1262.354127,341.937607,2175.457753,1043.129992,536.846312,1283.971476,1105.17502,3035.696181,538.526737,200.646134,626.891711,706.906847,165.070935,1315.230829,3664.897128,1073.013452,208.668837,495.163991,682.522464,328.360001,615.509159,292.817459,1230.024934,234.876943,1467.978172,894.355955,1951.749989,209.193273,161.352457,215.797862,216.601611,377.208725,1431.25539,2278.433919,366.286941,2503.368239,623.467923,771.418918,468.287481,787.322768,415.356166,294.656793,406.510115,2866.305738,880.983697,414.868516,1849.692425,1043.278965,1716.248416,236.517561,2081.778653,2160.682739,1238.995672,157.90341,727.078957,293.035296,1676.356978,842.689711,3695.187498,444.355358,1605.065959,364.388047,447.839283,353.708365,850.336814,586.23495,2271.828346,419.240003,2069.839273,759.831507,186.366501,1938.658259,739.623642,895.529712,195.342837,697.195056,1816.531624,454.388946,3093.855851,1107.394132,348.385939,807.278254,508.842471,681.02311,346.2005,317.602959,252.855418,248.740418,557.453084,1510.017223,541.69148,548.561606,888.997187,582.762984,643.945899,230.534613,385.136774,350.749748,171.426496,206.183572,509.140514,2034.701203,337.824828,328.90753],\"xbins\":{\"end\":6000,\"size\":250,\"start\":0},\"type\":\"histogram\",\"xaxis\":\"x\",\"yaxis\":\"y\"},{\"marker\":{\"color\":\"purple\"},\"name\":\"Other (0, 0.00%)\",\"x\":[],\"xbins\":{\"end\":6000,\"size\":250,\"start\":0},\"type\":\"histogram\",\"xaxis\":\"x\",\"yaxis\":\"y\"},{\"marker\":{\"color\":\"orange\"},\"name\":\"Other \\u03bd\\u003csub\\u003ee\\u003c\\u002fsub\\u003e (111, 8.56%)\",\"x\":[2282.488559,753.356838,739.488645,4639.064569,932.716253,3200.742727,2196.088637,2277.374425,2461.64075,762.333096,468.71503,1787.788135,2263.432773,1106.555491,3133.994908,944.096498,3234.04975,2104.136307,3768.070851,480.484176,1409.292231,1310.764808,563.512958,2606.556082,1078.331236,946.919946,2742.770517,1531.759816,772.683222,1084.491409,434.78956,5946.886507,1565.028362,1078.949554,2106.339613,1014.139296,1943.415239,1158.214017,1505.37574,812.144377,1523.703686,2641.603378,482.520948,868.949274,827.419979,1794.687043,496.881858,441.103746,3910.506108,1102.228232,904.176264,902.901568,624.382029,639.33118,3442.757708,1611.371308,2082.791105,2940.815427,1245.375447,1904.178428,1401.92232,720.502236,4167.307642,755.685434,1265.477901,201.375214,3614.676664,1150.324112,3051.64029,319.560296,611.440963,1274.028475,3556.25287,448.769448,1123.367211,836.170503,340.730619,644.671129,1107.231034,2439.653023,385.88539,1516.053375,993.619232,758.14401,2249.347074,1821.481987,1598.281225,514.201196,1825.126322,1212.757028,295.764247,2239.652384,1807.569228,1418.296652,717.538485,718.536805,2105.144219,669.161062,1090.725773,567.912004,841.810812,1360.069966,1468.050593,1750.481677,129.679377,2103.487683,1537.273654,1218.764304,1018.552596,554.709174,1856.698527],\"xbins\":{\"end\":6000,\"size\":250,\"start\":0},\"type\":\"histogram\",\"xaxis\":\"x\",\"yaxis\":\"y\"},{\"marker\":{\"color\":\"darkgreen\"},\"name\":\"1muNp (985, 76.00%)\",\"x\":[1126.180358,2190.927874,1194.635394,797.848363,1200.206586,608.370018,736.955417,921.796996,1650.927133,473.871417,1148.744906,1032.435091,858.03747,925.883259,1777.383599,904.769998,1164.015225,238.131601,1435.422864,4664.170103,1894.028175,280.824389,872.901673,449.336068,1350.70679,1490.072762,703.129185,935.971832,700.489995,2521.823199,998.139819,599.038695,2273.042874,1852.044071,1332.788086,479.023169,425.980089,3657.466679,1444.67374,793.692477,1838.921948,1948.84879,289.830944,636.462933,3019.704769,698.170695,1182.386999,1007.075825,814.681614,610.765817,1368.047644,2071.178605,1175.951838,1521.52201,1162.040924,652.09692,746.674459,720.524031,1266.247112,987.015647,2921.622688,1578.777108,591.936668,1166.739709,877.232493,1300.86326,5253.373962,444.567541,1905.625264,726.148901,1735.657714,969.906303,1285.591124,474.673254,653.482603,980.503187,1792.470358,964.188271,435.606509,777.242362,1569.593356,1140.601488,954.36348,339.795381,1568.763682,1071.892188,1711.054329,779.010526,414.097042,1623.015504,1713.352403,1495.928111,1091.783397,3616.026884,1706.319084,1889.667621,523.020289,2059.173844,1602.114076,181.442685,236.668622,2457.225187,499.798542,335.312009,1713.42289,363.574375,746.563628,1069.375706,1402.541538,985.800713,1160.406333,848.600902,1590.754559,2238.562607,1181.99593,2878.171623,759.461169,2321.768489,499.697043,608.079696,677.455457,1129.143276,578.289449,537.105611,1347.726406,385.023338,1362.938099,1358.90878,1611.575662,1778.224122,478.922907,2790.540275,645.861982,986.645477,639.30862,460.586592,874.728198,435.192326,646.362965,914.144382,762.115927,1358.576547,1399.695491,1095.242027,4448.4683,1439.212033,767.805708,1259.467101,1173.187551,839.931009,2367.618727,242.304647,605.760011,1243.837125,992.62224,1301.622798,5379.190182,450.905316,757.091702,988.839682,762.112148,997.724618,1667.399995,872.716903,749.597097,1054.751134,1526.014143,2039.426195,707.248904,1224.106703,659.840103,533.790415,720.302362,505.563512,487.202066,1841.885459,587.581115,1091.441331,956.004462,1127.077783,657.791001,1226.573395,547.59144,848.508093,619.499657,596.187012,802.046633,396.42143,185.74137,444.325181,839.480723,837.014719,588.129647,1198.926359,1849.279256,602.607473,2288.958179,666.275872,842.061976,1065.912468,2436.662695,1124.214005,1229.595214,813.020563,637.135364,722.569033,1477.450985,652.829103,3459.733037,2180.172128,280.035009,1213.906847,601.470597,1476.064527,3540.226713,1635.228581,1470.714651,1468.662855,1540.842471,528.050083,1882.515201,1660.043504,607.743822,799.067542,2074.298947,2885.015363,1465.553928,733.886555,886.050755,586.747774,1016.006928,534.202114,844.418302,392.746289,370.829239,4830.549797,358.914191,758.708975,832.267541,1604.658765,516.35223,525.092964,1307.454169,589.073247,383.248072,677.621883,3895.42142,726.109635,551.821944,2040.266072,806.600214,553.68829,2202.332936,677.658994,1175.257359,796.996592,1278.692763,3090.242998,754.545377,2691.775912,1292.720877,1104.297952,482.140983,2551.925451,1057.598841,1247.561657,938.307995,694.778532,2334.96594,523.37924,1219.256322,478.946506,2892.33282,695.834452,239.863447,3485.822854,2202.519142,1594.717562,962.781265,941.620213,607.666702,1200.279242,765.844341,926.686511,300.725905,2057.21837,451.971471,501.156201,402.744682,1348.843857,1361.29925,1199.476603,3051.32532,1602.934112,407.492072,431.837412,1801.970528,765.859261,2408.126485,887.467269,990.871165,898.285218,296.123941,782.582007,864.340725,1851.067778,2109.272345,155.627879,589.090623,656.669773,628.739864,2374.60573,1622.692245,719.507994,3033.231913,872.903621,1563.323982,1085.180317,929.503226,2026.836562,385.358997,623.785171,957.481793,2234.312419,500.696543,331.740025,1094.848994,756.324771,2137.023788,1349.81911,1060.19619,1597.785939,1356.508707,3407.947825,1274.853439,387.784029,409.368597,1056.766881,732.429562,1572.385135,936.539458,2941.029217,696.307782,1336.310817,1677.535047,6038.846923,3449.90493,1637.934636,979.011323,688.891605,598.958551,926.074907,3519.711056,2287.336379,4731.556153,519.720182,1304.026994,1684.161327,501.100943,872.871997,785.648335,997.979621,401.838271,541.616757,866.705187,1942.197648,745.475506,672.200444,1433.986175,2782.660921,1405.204816,3126.137274,842.014522,531.300426,844.241454,1786.867115,1395.444394,2398.456062,1526.442392,3982.692075,932.261683,5037.613281,1312.206234,1031.248751,1295.03183,1741.741498,1440.122319,272.370996,1079.819864,342.621073,798.021602,1179.391171,811.109139,1668.946082,875.883248,1266.736358,460.497973,652.742056,1898.583396,3373.471156,1514.354933,1304.829301,305.867869,1360.251875,3422.963581,771.519874,471.031813,1821.604788,1249.690682,608.956932,1539.788861,1360.941983,4478.764496,1292.901956,498.173,737.703606,1193.07464,478.907611,2307.654905,837.281533,1736.132902,2307.039797,229.447767,1238.979666,1242.402392,1358.493284,734.284522,540.925624,596.901008,813.815117,1428.997701,721.513115,741.321601,1972.614692,1462.874825,2048.079592,1586.862121,382.057264,309.048553,1252.703193,524.467272,794.134434,643.305664,722.58839,1458.476522,804.045656,1035.971204,1929.051226,921.929485,3288.325332,849.128256,432.006139,523.566938,512.726728,1482.730106,1051.48978,488.656453,1060.744803,669.890026,877.508787,1247.444393,1189.451481,1489.892419,317.82033,638.736584,2757.092308,1290.048307,980.694701,664.897158,423.600648,3283.018906,1024.845716,1153.581342,1791.785948,1296.441531,1577.606465,665.192983,803.350966,1025.527473,1358.514216,1691.168029,517.457992,815.430458,3165.317952,1145.258167,638.760919,1283.429066,2530.251064,549.715448,1171.678358,531.051881,953.021603,1179.388274,603.703685,3746.281214,1454.955696,667.71901,1993.149438,1129.926822,815.507479,730.207305,1202.117323,1680.18262,748.518027,502.185956,221.625715,628.665497,1021.980065,646.014086,1086.287228,1369.273638,1367.350692,1197.06993,709.665272,1252.031228,724.905125,721.978402,1597.827936,1161.111325,2566.616798,1359.215538,2147.403985,1344.87717,1044.886257,2491.444306,293.154112,3710.184393,1202.317741,618.442318,588.335086,1427.046486,1171.225716,756.425932,1137.614528,1568.528557,614.208382,1037.258814,608.900488,447.214394,733.922733,552.214779,567.506717,1902.274166,1732.981743,778.696534,970.582088,691.34428,568.436362,454.300878,792.182048,1205.68819,608.308901,1035.432779,901.05416,962.228512,705.897306,1476.18195,660.33449,484.639489,1301.867728,723.806024,1940.440667,1523.30472,5178.187298,2366.190653,1211.570085,663.007699,1099.079192,811.100492,665.303703,578.84051,1230.578101,397.848995,1076.424441,505.159644,5113.1542,1747.942979,1449.376086,832.922877,735.008621,907.238163,2005.385,1803.902747,1440.624158,781.860022,2182.143458,3876.880167,862.508417,1139.581967,456.700598,1151.046078,2016.21641,1842.279826,1484.380708,2240.947561,632.589587,783.96297,1382.502802,1324.798364,487.047142,561.051751,282.580934,719.715685,604.408941,329.488803,995.392741,657.688563,667.858398,636.05795,2167.303563,1246.87719,914.308961,613.04874,1677.680943,903.44422,524.551226,1109.471319,2052.944354,342.647123,4810.015031,401.813023,1084.680853,770.175516,553.227209,3411.420315,1042.040094,630.015516,628.967556,410.994932,675.065171,980.414918,2036.285947,198.724579,966.563593,716.718577,1195.61086,1569.74047,1194.369537,161.586376,939.930329,524.674991,1967.767042,2174.786432,1404.531547,1801.001379,260.693294,878.857925,1264.135678,1168.293497,434.002802,4784.089667,2896.638802,1178.213583,660.405946,1355.79229,1217.186085,571.477484,958.796034,1130.187551,836.815893,2378.978657,1689.590682,356.833572,1656.2407,2907.727912,1764.124753,920.01059,733.048072,950.706703,2542.173695,238.253538,1220.840793,4207.571864,657.124733,641.485737,391.596776,1727.829654,1290.762172,1092.100503,695.4449,1305.052915,1047.907729,1279.522201,825.527915,578.991077,694.249106,1234.560167,907.897144,1421.01354,2087.872698,3948.180709,771.37147,1659.030027,979.452187,2028.280892,506.263928,1334.151471,804.807724,826.025152,405.11306,4130.314203,668.944434,883.373435,901.367547,451.533199,1132.335723,1233.235559,812.714715,1724.494188,1744.525914,936.653401,462.968652,5243.521329,1713.523483,615.938549,922.346541,638.583211,1611.450285,272.560892,860.547659,449.107217,1022.484161,1377.043621,1065.596895,2062.108454,1756.814717,1041.709854,1571.218574,1447.316244,615.75554,1945.3401,693.032788,261.668225,1203.211718,429.260378,1245.982667,766.782535,877.411057,736.354666,2780.081083,980.318999,2000.013816,927.191312,903.424156,1415.540584,588.910658,1056.025001,2978.186811,726.286704,495.898866,775.093199,853.345871,1422.92736,2841.89187,1355.281066,2179.619242,845.194962,536.073201,1829.061215,2480.205315,3405.544936,2527.423225,598.381646,593.616127,950.159331,968.09851,2007.488749,906.708105,639.098215,2271.333565,528.743901,1741.364317,1246.974932,1025.44659,818.320501,992.350594,701.403283,860.935157,1634.042435,477.463365,968.81869,152.721149,294.630614,896.172977,1078.632258,239.345093,1053.317359,842.218029,1734.222407,681.13567,968.296016,987.085994,247.662275,1662.841173,1520.380424,2261.153963,371.940638,1683.965655,832.198008,372.722826,1595.584351,1626.795288,1150.83973,2625.499432,3129.648944,492.466191,451.025023,1624.189446,1279.40267,571.26759,675.174158,1811.788514,519.980097,853.241487,1548.865282,941.313726,282.271421,1512.328866,1817.008668,679.814745,2532.757021,791.925724,614.591566,662.403108,1591.586514,1671.013169,576.145111,1079.455651,2334.727319,477.296666,626.781425,2008.483452,692.916968,1471.350167,539.396868,2061.32699,924.344904,778.956064,809.973834,863.933753,798.534763,1448.260481,1189.387633,1135.135737,1097.485242,2550.497453,1867.950853,1349.446244,3414.017883,2053.101691,1124.684477,654.235622,583.771984,2091.106977,594.444893,440.002165,2696.579914,1158.668471,331.190429,387.724285,847.326712,766.376502,662.448569,1824.180379,2423.288518,543.701959,585.325518,2005.753199,326.779941,876.759983,1099.653726,598.504357,610.018169,1105.927078,977.678175,738.768115,605.103166,1190.595334,1429.088677,1022.748909,163.526314,487.269166,1294.13206,548.505753,355.723923,2164.033959,883.085697,1388.575409,276.60666,364.393509,1064.945752,1451.62538,498.816721,739.279512,624.954353,576.521437,205.312644,616.083491,1104.365969,1014.963383,142.514314,822.612062,1167.526372,1586.957793,1058.644658,703.299121,2674.393235,610.009167,969.906204,1695.629822,462.284989,492.886222,2685.668399,856.897331,1484.555035,467.299158,952.155685,856.569363,1523.73292,1529.501345,603.658954,1740.111327,1079.243446,590.793226,722.286812,589.828246,705.411847,599.826685,1098.711353,890.321719,287.813333,513.423377,1814.415557,861.728017,1337.425537,481.512494,675.456603,722.923592,2206.525737,2072.427218,826.775322,408.018912,1270.302463,799.036773,226.323614,1263.522022,1066.442826,900.780474,1261.911124,1733.111722,1293.721654,154.770265,1367.929142,1542.318465,965.257684,1179.781933,842.260662,3654.542648,2513.165948,2421.769584,486.753847,514.736347,1053.658315,1275.832022,1295.340377,339.936284,560.922519,816.886125,711.084362,597.331025,1159.691949,834.878793,385.571387,304.901701,1603.722069,544.571951,1013.630131,2012.085185,1025.01741,1652.650499,2252.288045,400.818416,1101.947665,864.625889,2435.036713],\"xbins\":{\"end\":6000,\"size\":250,\"start\":0},\"type\":\"histogram\",\"xaxis\":\"x\",\"yaxis\":\"y\"}],                        {\"template\":{\"data\":{\"histogram2dcontour\":[{\"type\":\"histogram2dcontour\",\"colorbar\":{\"outlinewidth\":0,\"ticks\":\"\"},\"colorscale\":[[0.0,\"#0d0887\"],[0.1111111111111111,\"#46039f\"],[0.2222222222222222,\"#7201a8\"],[0.3333333333333333,\"#9c179e\"],[0.4444444444444444,\"#bd3786\"],[0.5555555555555556,\"#d8576b\"],[0.6666666666666666,\"#ed7953\"],[0.7777777777777778,\"#fb9f3a\"],[0.8888888888888888,\"#fdca26\"],[1.0,\"#f0f921\"]]}],\"choropleth\":[{\"type\":\"choropleth\",\"colorbar\":{\"outlinewidth\":0,\"ticks\":\"\"}}],\"histogram2d\":[{\"type\":\"histogram2d\",\"colorbar\":{\"outlinewidth\":0,\"ticks\":\"\"},\"colorscale\":[[0.0,\"#0d0887\"],[0.1111111111111111,\"#46039f\"],[0.2222222222222222,\"#7201a8\"],[0.3333333333333333,\"#9c179e\"],[0.4444444444444444,\"#bd3786\"],[0.5555555555555556,\"#d8576b\"],[0.6666666666666666,\"#ed7953\"],[0.7777777777777778,\"#fb9f3a\"],[0.8888888888888888,\"#fdca26\"],[1.0,\"#f0f921\"]]}],\"heatmap\":[{\"type\":\"heatmap\",\"colorbar\":{\"outlinewidth\":0,\"ticks\":\"\"},\"colorscale\":[[0.0,\"#0d0887\"],[0.1111111111111111,\"#46039f\"],[0.2222222222222222,\"#7201a8\"],[0.3333333333333333,\"#9c179e\"],[0.4444444444444444,\"#bd3786\"],[0.5555555555555556,\"#d8576b\"],[0.6666666666666666,\"#ed7953\"],[0.7777777777777778,\"#fb9f3a\"],[0.8888888888888888,\"#fdca26\"],[1.0,\"#f0f921\"]]}],\"heatmapgl\":[{\"type\":\"heatmapgl\",\"colorbar\":{\"outlinewidth\":0,\"ticks\":\"\"},\"colorscale\":[[0.0,\"#0d0887\"],[0.1111111111111111,\"#46039f\"],[0.2222222222222222,\"#7201a8\"],[0.3333333333333333,\"#9c179e\"],[0.4444444444444444,\"#bd3786\"],[0.5555555555555556,\"#d8576b\"],[0.6666666666666666,\"#ed7953\"],[0.7777777777777778,\"#fb9f3a\"],[0.8888888888888888,\"#fdca26\"],[1.0,\"#f0f921\"]]}],\"contourcarpet\":[{\"type\":\"contourcarpet\",\"colorbar\":{\"outlinewidth\":0,\"ticks\":\"\"}}],\"contour\":[{\"type\":\"contour\",\"colorbar\":{\"outlinewidth\":0,\"ticks\":\"\"},\"colorscale\":[[0.0,\"#0d0887\"],[0.1111111111111111,\"#46039f\"],[0.2222222222222222,\"#7201a8\"],[0.3333333333333333,\"#9c179e\"],[0.4444444444444444,\"#bd3786\"],[0.5555555555555556,\"#d8576b\"],[0.6666666666666666,\"#ed7953\"],[0.7777777777777778,\"#fb9f3a\"],[0.8888888888888888,\"#fdca26\"],[1.0,\"#f0f921\"]]}],\"surface\":[{\"type\":\"surface\",\"colorbar\":{\"outlinewidth\":0,\"ticks\":\"\"},\"colorscale\":[[0.0,\"#0d0887\"],[0.1111111111111111,\"#46039f\"],[0.2222222222222222,\"#7201a8\"],[0.3333333333333333,\"#9c179e\"],[0.4444444444444444,\"#bd3786\"],[0.5555555555555556,\"#d8576b\"],[0.6666666666666666,\"#ed7953\"],[0.7777777777777778,\"#fb9f3a\"],[0.8888888888888888,\"#fdca26\"],[1.0,\"#f0f921\"]]}],\"mesh3d\":[{\"type\":\"mesh3d\",\"colorbar\":{\"outlinewidth\":0,\"ticks\":\"\"}}],\"scatter\":[{\"fillpattern\":{\"fillmode\":\"overlay\",\"size\":10,\"solidity\":0.2},\"type\":\"scatter\"}],\"parcoords\":[{\"type\":\"parcoords\",\"line\":{\"colorbar\":{\"outlinewidth\":0,\"ticks\":\"\"}}}],\"scatterpolargl\":[{\"type\":\"scatterpolargl\",\"marker\":{\"colorbar\":{\"outlinewidth\":0,\"ticks\":\"\"}}}],\"bar\":[{\"error_x\":{\"color\":\"#2a3f5f\"},\"error_y\":{\"color\":\"#2a3f5f\"},\"marker\":{\"line\":{\"color\":\"#E5ECF6\",\"width\":0.5},\"pattern\":{\"fillmode\":\"overlay\",\"size\":10,\"solidity\":0.2}},\"type\":\"bar\"}],\"scattergeo\":[{\"type\":\"scattergeo\",\"marker\":{\"colorbar\":{\"outlinewidth\":0,\"ticks\":\"\"}}}],\"scatterpolar\":[{\"type\":\"scatterpolar\",\"marker\":{\"colorbar\":{\"outlinewidth\":0,\"ticks\":\"\"}}}],\"histogram\":[{\"marker\":{\"pattern\":{\"fillmode\":\"overlay\",\"size\":10,\"solidity\":0.2}},\"type\":\"histogram\"}],\"scattergl\":[{\"type\":\"scattergl\",\"marker\":{\"colorbar\":{\"outlinewidth\":0,\"ticks\":\"\"}}}],\"scatter3d\":[{\"type\":\"scatter3d\",\"line\":{\"colorbar\":{\"outlinewidth\":0,\"ticks\":\"\"}},\"marker\":{\"colorbar\":{\"outlinewidth\":0,\"ticks\":\"\"}}}],\"scattermapbox\":[{\"type\":\"scattermapbox\",\"marker\":{\"colorbar\":{\"outlinewidth\":0,\"ticks\":\"\"}}}],\"scatterternary\":[{\"type\":\"scatterternary\",\"marker\":{\"colorbar\":{\"outlinewidth\":0,\"ticks\":\"\"}}}],\"scattercarpet\":[{\"type\":\"scattercarpet\",\"marker\":{\"colorbar\":{\"outlinewidth\":0,\"ticks\":\"\"}}}],\"carpet\":[{\"aaxis\":{\"endlinecolor\":\"#2a3f5f\",\"gridcolor\":\"white\",\"linecolor\":\"white\",\"minorgridcolor\":\"white\",\"startlinecolor\":\"#2a3f5f\"},\"baxis\":{\"endlinecolor\":\"#2a3f5f\",\"gridcolor\":\"white\",\"linecolor\":\"white\",\"minorgridcolor\":\"white\",\"startlinecolor\":\"#2a3f5f\"},\"type\":\"carpet\"}],\"table\":[{\"cells\":{\"fill\":{\"color\":\"#EBF0F8\"},\"line\":{\"color\":\"white\"}},\"header\":{\"fill\":{\"color\":\"#C8D4E3\"},\"line\":{\"color\":\"white\"}},\"type\":\"table\"}],\"barpolar\":[{\"marker\":{\"line\":{\"color\":\"#E5ECF6\",\"width\":0.5},\"pattern\":{\"fillmode\":\"overlay\",\"size\":10,\"solidity\":0.2}},\"type\":\"barpolar\"}],\"pie\":[{\"automargin\":true,\"type\":\"pie\"}]},\"layout\":{\"autotypenumbers\":\"strict\",\"colorway\":[\"#636efa\",\"#EF553B\",\"#00cc96\",\"#ab63fa\",\"#FFA15A\",\"#19d3f3\",\"#FF6692\",\"#B6E880\",\"#FF97FF\",\"#FECB52\"],\"font\":{\"color\":\"#2a3f5f\"},\"hovermode\":\"closest\",\"hoverlabel\":{\"align\":\"left\"},\"paper_bgcolor\":\"white\",\"plot_bgcolor\":\"#E5ECF6\",\"polar\":{\"bgcolor\":\"#E5ECF6\",\"angularaxis\":{\"gridcolor\":\"white\",\"linecolor\":\"white\",\"ticks\":\"\"},\"radialaxis\":{\"gridcolor\":\"white\",\"linecolor\":\"white\",\"ticks\":\"\"}},\"ternary\":{\"bgcolor\":\"#E5ECF6\",\"aaxis\":{\"gridcolor\":\"white\",\"linecolor\":\"white\",\"ticks\":\"\"},\"baxis\":{\"gridcolor\":\"white\",\"linecolor\":\"white\",\"ticks\":\"\"},\"caxis\":{\"gridcolor\":\"white\",\"linecolor\":\"white\",\"ticks\":\"\"}},\"coloraxis\":{\"colorbar\":{\"outlinewidth\":0,\"ticks\":\"\"}},\"colorscale\":{\"sequential\":[[0.0,\"#0d0887\"],[0.1111111111111111,\"#46039f\"],[0.2222222222222222,\"#7201a8\"],[0.3333333333333333,\"#9c179e\"],[0.4444444444444444,\"#bd3786\"],[0.5555555555555556,\"#d8576b\"],[0.6666666666666666,\"#ed7953\"],[0.7777777777777778,\"#fb9f3a\"],[0.8888888888888888,\"#fdca26\"],[1.0,\"#f0f921\"]],\"sequentialminus\":[[0.0,\"#0d0887\"],[0.1111111111111111,\"#46039f\"],[0.2222222222222222,\"#7201a8\"],[0.3333333333333333,\"#9c179e\"],[0.4444444444444444,\"#bd3786\"],[0.5555555555555556,\"#d8576b\"],[0.6666666666666666,\"#ed7953\"],[0.7777777777777778,\"#fb9f3a\"],[0.8888888888888888,\"#fdca26\"],[1.0,\"#f0f921\"]],\"diverging\":[[0,\"#8e0152\"],[0.1,\"#c51b7d\"],[0.2,\"#de77ae\"],[0.3,\"#f1b6da\"],[0.4,\"#fde0ef\"],[0.5,\"#f7f7f7\"],[0.6,\"#e6f5d0\"],[0.7,\"#b8e186\"],[0.8,\"#7fbc41\"],[0.9,\"#4d9221\"],[1,\"#276419\"]]},\"xaxis\":{\"gridcolor\":\"white\",\"linecolor\":\"white\",\"ticks\":\"\",\"title\":{\"standoff\":15},\"zerolinecolor\":\"white\",\"automargin\":true,\"zerolinewidth\":2},\"yaxis\":{\"gridcolor\":\"white\",\"linecolor\":\"white\",\"ticks\":\"\",\"title\":{\"standoff\":15},\"zerolinecolor\":\"white\",\"automargin\":true,\"zerolinewidth\":2},\"scene\":{\"xaxis\":{\"backgroundcolor\":\"#E5ECF6\",\"gridcolor\":\"white\",\"linecolor\":\"white\",\"showbackground\":true,\"ticks\":\"\",\"zerolinecolor\":\"white\",\"gridwidth\":2},\"yaxis\":{\"backgroundcolor\":\"#E5ECF6\",\"gridcolor\":\"white\",\"linecolor\":\"white\",\"showbackground\":true,\"ticks\":\"\",\"zerolinecolor\":\"white\",\"gridwidth\":2},\"zaxis\":{\"backgroundcolor\":\"#E5ECF6\",\"gridcolor\":\"white\",\"linecolor\":\"white\",\"showbackground\":true,\"ticks\":\"\",\"zerolinecolor\":\"white\",\"gridwidth\":2}},\"shapedefaults\":{\"line\":{\"color\":\"#2a3f5f\"}},\"annotationdefaults\":{\"arrowcolor\":\"#2a3f5f\",\"arrowhead\":0,\"arrowwidth\":1},\"geo\":{\"bgcolor\":\"white\",\"landcolor\":\"#E5ECF6\",\"subunitcolor\":\"white\",\"showland\":true,\"showlakes\":true,\"lakecolor\":\"white\"},\"title\":{\"x\":0.05},\"mapbox\":{\"style\":\"light\"}}},\"xaxis\":{\"anchor\":\"y\",\"domain\":[0.0,1.0],\"title\":{\"text\":\"Reco Neutrino Energy [MeV]\"},\"range\":[0,6000]},\"yaxis\":{\"anchor\":\"x\",\"domain\":[0.0,1.0],\"title\":{\"text\":\"Entries\"}},\"annotations\":[{\"font\":{\"size\":46},\"showarrow\":false,\"text\":\"\\u003cspan style='font-size: 42px;'\\u003eSelected 1muNp Events\",\"x\":0.5,\"xanchor\":\"center\",\"xref\":\"paper\",\"y\":1.0,\"yanchor\":\"bottom\",\"yref\":\"paper\"}],\"font\":{\"size\":26},\"legend\":{\"yanchor\":\"top\",\"y\":0.99,\"xanchor\":\"left\",\"x\":0.43,\"bgcolor\":\"LightSteelBlue\",\"bordercolor\":\"Black\"},\"barmode\":\"stack\",\"height\":900,\"width\":900,\"showlegend\":true},                        {\"responsive\": true}                    ).then(function(){\n",
       "                            \n",
       "var gd = document.getElementById('2d0a338b-e6d1-4399-9b21-3f5542044154');\n",
       "var x = new MutationObserver(function (mutations, observer) {{\n",
       "        var display = window.getComputedStyle(gd).display;\n",
       "        if (!display || display === 'none') {{\n",
       "            console.log([gd, 'removed!']);\n",
       "            Plotly.purge(gd);\n",
       "            observer.disconnect();\n",
       "        }}\n",
       "}});\n",
       "\n",
       "// Listen for the removal of the full notebook cells\n",
       "var notebookContainer = gd.closest('#notebook-container');\n",
       "if (notebookContainer) {{\n",
       "    x.observe(notebookContainer, {childList: true});\n",
       "}}\n",
       "\n",
       "// Listen for the clearing of the current output cell\n",
       "var outputEl = gd.closest('.output');\n",
       "if (outputEl) {{\n",
       "    x.observe(outputEl, {childList: true});\n",
       "}}\n",
       "\n",
       "                        })                };                });            </script>        </div>"
      ]
     },
     "metadata": {},
     "output_type": "display_data"
    }
   ],
   "source": [
    "#hist_1d('reco_nu_energy',[0,5000],[0,5000,250],'Reco Neutrino Energy [MeV]','Selected 1e1p Events','1e1p')\n",
    "hist_1d('visible_energy_reco',[0,6000],[0,6000,250],'Reco Neutrino Energy [MeV]','Selected 1muNp Events','1muNp')\n",
    "#hist_1d('reco_nu_energy',[0,5000],[0,5000,100],'Reco Neutrino Energy [MeV]','Selected CC \\u03BD<sub>e</sub> Inclusive Events','Numu')"
   ]
  },
  {
   "cell_type": "code",
   "execution_count": 32,
   "id": "d76fe43e-be52-4578-a3cd-93cb8b9c4d5d",
   "metadata": {},
   "outputs": [],
   "source": [
    "def get_stat_cov(bins):\n",
    "    stat_cov = np.diag(bins)\n",
    "    stat_err = np.sqrt(np.diagonal(stat_cov))\n",
    "    return stat_cov, stat_err"
   ]
  },
  {
   "cell_type": "code",
   "execution_count": 33,
   "id": "55e24915-2adc-4d69-a0ad-1a2717f0a376",
   "metadata": {},
   "outputs": [],
   "source": [
    "def hist_1d_norm(metric, y_axis,bounds,bin_size, xaxis_name, Plot_title, selection):\n",
    "    fig = make_subplots(rows=1,cols=1,subplot_titles = (Plot_title,))\n",
    " #signal,sel_1mu, sel_1mu1pi1p, sel_nue_other, sel_NC, sel_cosmic,sel_numu,sel_other\n",
    "    signal,sel_1mu, sel_1mu1pi1p, sel_numu_other, sel_NC, sel_cosmic,sel_numu,sel_other,total_events = MC_selection(df_selected_nu,metric)\n",
    "    data_1muNp = data_selection(df_data,metric)\n",
    "    #print(data_1muNp)\n",
    "    energy_limit = bounds[1]\n",
    "    accuracy_sel,accuracy_1muNp,accuracy_numu=[],[],[]\n",
    "    error_sel = {'high': [],'low': []} \n",
    "    error_1muNp={'high':[],'low':[]}\n",
    "    error_numu={'high':[],'low':[]}\n",
    "    counts=[]\n",
    "    energy_bin = []\n",
    "    print('Purity: ', len(signal)/total_events)\n",
    "    print('Number of signal: ',len(signal),' Number of selected:', total_events)\n",
    "    cosmic_size = len(sel_cosmic)\n",
    "    numu_size = len(sel_numu)\n",
    "    NC_size = len(sel_NC)\n",
    "    signal_size = len(signal)\n",
    "    numu_size = len(sel_numu_other)\n",
    "    other_size = len(sel_other)\n",
    "    data_sel = {'Data':[],'UnNormalized':[]}\n",
    "    pur_sel = {'Cosmics':[],'\\u03BD<sub>\\u03BC</sub>':[],'NC':[],'Other \\u03BD<sub>e</sub>':[],'Signal':[]}\n",
    "    for b in range(int(energy_limit/bin_size)):\n",
    "        data_sel['UnNormalized'].append(len([x for x in data_1muNp if x >=b*bin_size and x < (b+1)*bin_size]))\n",
    "        #print(len([x for x in data_1eNp if x >=b*bin_size and x < (b+1)*bin_size])/len(data_1eNp))\n",
    "        data_sel['Data'].append(len([x for x in data_1muNp if x >=b*bin_size and x < (b+1)*bin_size])/len(data_1muNp))\n",
    "        pur_sel['Signal'].append(len([x for x in signal if x >=b*bin_size and x < (b+1)*bin_size])/total_events)\n",
    "        pur_sel['Cosmics'].append(len([x for x in sel_cosmic if x >=b*bin_size and x < (b+1)*bin_size])/total_events)\n",
    "        pur_sel['\\u03BD<sub>\\u03BC</sub>'].append(len([x for x in sel_numu if x >=b*bin_size and x < (b+1)*bin_size])/total_events)\n",
    "        pur_sel['NC'].append(len([x for x in sel_NC if x >=b*bin_size and x < (b+1)*bin_size])/total_events)\n",
    "        if selection != 'Numu':\n",
    "            pur_sel['Other \\u03BD<sub>e</sub>'].append(len([x for x in sel_1mu if x >=b*bin_size and x < (b+1)*bin_size])/total_events)\n",
    "            pur_sel['Other \\u03BD<sub>e</sub>'][b]+=len([x for x in sel_1mu1pi1p if x >=b*bin_size and x < (b+1)*bin_size])/total_events\n",
    "            pur_sel['Other \\u03BD<sub>e</sub>'][b]+=len([x for x in sel_numu_other if x >=b*bin_size and x < (b+1)*bin_size])/total_events\n",
    "\n",
    "                \n",
    "            \n",
    "        energy_bin.append(((b+1)*bin_size)-(bin_size/2))\n",
    "    bins_data = np.array(data_sel['UnNormalized'])\n",
    "    stat_cov_data,stat_err_data = get_stat_cov(bins_data)\n",
    "    stat_cov_data_frac = stat_cov_data / np.outer(bins_data, bins_data)\n",
    "    scaledata = 1/np.sum(bins_data)\n",
    "    bins_data_scaled = bins_data * scaledata\n",
    "    stat_cov_data_scaled = np.outer(bins_data_scaled, bins_data_scaled) * stat_cov_data_frac\n",
    "    stat_err_data_scaled = np.sqrt(np.diag(stat_cov_data_scaled))\n",
    "    bins_data = bins_data_scaled\n",
    "    stat_cov_data = stat_cov_data_scaled\n",
    "    stat_err_data = stat_err_data_scaled\n",
    "    #mask = (df['reco_electron_conversion_dist']<2) #& (df['reco_electron_energy'] > 80)\n",
    "    #Create the masks for histograms\n",
    "    fig.add_trace(go.Scatter(x=energy_bin, y=data_sel['Data'],marker_color = 'black',mode='markers',name = f'Data',error_x=dict(\n",
    "            type='data',\n",
    "            array=[bin_size/2]*len(energy_bin)),\n",
    "            error_y=dict(\n",
    "            type='data',\n",
    "            visible=True,\n",
    "            array=stat_err_data,)\n",
    "            ),row = 1, col =1)\n",
    "    color = ['yellow','blue','pink','orange','green','pink','cyan','lime','brown','gray','red']\n",
    "    lists = [sel_cosmic,sel_numu,sel_NC,sel_numu_other,signal]\n",
    "    for i,key in enumerate(pur_sel):\n",
    "        fig.add_trace(go.Bar(x=energy_bin, y=pur_sel[key],width = [bin_size]*len(energy_bin),marker_color = color[i],name = f'{key}: {(len(lists[i])/total_events)*100:.2f}%'),row = 1, col =1)\n",
    "    \n",
    "    #fig.add_trace(go.Bar(x=energy_bin, y=eff_sel['signal'],width = [bin_size]*len(energy_bin),marker_color = 'green',name = 'Signal'),row = 1, col =1)\n",
    "    #fig.add_trace(go.Scatter(x=energy_bin, y=eff_sel['signal'],marker_color = 'green',name = 'Signal',mode='markers',error_x=dict(type='data',array=[bin_size/2]*len(energy_bin))),row = 1, col =1)\n",
    "    #if selection == '1e1p':\n",
    "    #    fig.add_trace(go.Scatter(x=energy_bin, y=eff_sel['1eNp'],marker_color = 'black',name = '1eNp',mode='markers',error_x=dict(type='data',array=[bin_size/2]*len(energy_bin))),row = 1, col =1)\n",
    "    #if selection != \"Numu Inclusive\":\n",
    "    #    fig.add_trace(go.Scatter(x=energy_bin, y=eff_sel['1e'],marker_color = 'yellow',name = '1e',mode='markers',error_x=dict(type='data',array=[bin_size/2]*len(energy_bin))),row = 1, col =1)\n",
    "    #    fig.add_trace(go.Scatter(x=energy_bin, y=eff_sel['1e1pi1p'],marker_color = 'blue',name = '1e1pi1p',mode='markers',error_x=dict(type='data',array=[bin_size/2]*len(energy_bin))),row = 1, col =1)\n",
    "    #    fig.add_trace(go.Scatter(x=energy_bin, y=eff_sel['numu'],marker_color = 'orange',name = 'numu',mode='markers',error_x=dict(type='data',array=[bin_size/2]*len(energy_bin))),row = 1, col =1)\n",
    "    #fig.add_trace(go.Scatter(x=energy_bin, y=eff_sel['no_e'],marker_color = 'pink',name = 'no_e',mode='markers',error_x=dict(type='data',array=[bin_size/2]*len(energy_bin))),row = 1, col =1)\n",
    "    #fig.add_trace(go.Scatter(x=energy_bin, y=eff_sel['e2g'],marker_color = 'cyan',name = 'e2g',mode='markers',error_x=dict(type='data',array=[bin_size/2]*len(energy_bin))),row = 1, col =1)\n",
    "    #fig.add_trace(go.Scatter(x=energy_bin, y=eff_sel['Ne'],marker_color = 'lime',name = 'Ne',mode='markers',error_x=dict(type='data',array=[bin_size/2]*len(energy_bin))),row = 1, col =1)\n",
    "    #fig.add_trace(go.Scatter(x=energy_bin, y=eff_sel['uncontained'],marker_color = 'brown',name = 'uncontained',mode='markers',error_x=dict(type='data',array=[bin_size/2]*len(energy_bin))),row = 1, col =1)\n",
    "    #fig.add_trace(go.Scatter(x=energy_bin, y=eff_sel['flash'],marker_color = 'gray',name = 'flash',mode='markers',error_x=dict(type='data',array=[bin_size/2]*len(energy_bin))),row = 1, col =1)\n",
    "    #fig.add_trace(go.Scatter(x=energy_bin, y=eff_sel['other'],marker_color = 'red',name = 'other',mode='markers',error_x=dict(type='data',array=[bin_size/2]*len(energy_bin))),row = 1, col =1)\n",
    "    \n",
    "    fig.update_layout(font = dict(size=26),legend=dict(\n",
    "        yanchor=\"top\",\n",
    "        y=0.99,\n",
    "        xanchor=\"left\",\n",
    "        x=0.5,\n",
    "        bgcolor=\"LightSteelBlue\",\n",
    "            bordercolor=\"Black\",\n",
    "    ))\n",
    "    fig.update_xaxes(title_text = xaxis_name,row = 1, col = 1)\n",
    "    fig.update_annotations(font_size=36)\n",
    "    fig.update_yaxes(title_text = f\"Entries Normalized \",row = 1, col = 1)\n",
    "    fig.update_layout(barmode='stack')\n",
    "    fig.update_layout(xaxis = dict(range = bounds))\n",
    "    fig.update_layout(yaxis = dict(range = y_axis))\n",
    "    fig.update_layout(height = 900, width = 900,showlegend = True)\n",
    "    fig.show()"
   ]
  }
 ],
 "metadata": {
  "kernelspec": {
   "display_name": "Python 3 (ipykernel)",
   "language": "python",
   "name": "python3"
  },
  "language_info": {
   "codemirror_mode": {
    "name": "ipython",
    "version": 3
   },
   "file_extension": ".py",
   "mimetype": "text/x-python",
   "name": "python",
   "nbconvert_exporter": "python",
   "pygments_lexer": "ipython3",
   "version": "3.12.4"
  }
 },
 "nbformat": 4,
 "nbformat_minor": 5
}
